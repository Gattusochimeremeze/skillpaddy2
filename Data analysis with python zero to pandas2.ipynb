{
 "cells": [
  {
   "cell_type": "code",
   "execution_count": 1,
   "id": "2966cf51-ac5e-4fa1-8b8d-1ebd8535eca9",
   "metadata": {},
   "outputs": [],
   "source": [
    "today = 'saturday'"
   ]
  },
  {
   "cell_type": "code",
   "execution_count": 2,
   "id": "7229baba-49e7-409d-97f2-4e5fa0b6a89a",
   "metadata": {},
   "outputs": [],
   "source": [
    "another_day = today.replace(\"satur\", \"wednes\")"
   ]
  },
  {
   "cell_type": "code",
   "execution_count": 3,
   "id": "c88dbadc-b0b3-4486-b933-cddbafd691c4",
   "metadata": {},
   "outputs": [
    {
     "data": {
      "text/plain": [
       "'wednesday'"
      ]
     },
     "execution_count": 3,
     "metadata": {},
     "output_type": "execute_result"
    }
   ],
   "source": [
    "another_day"
   ]
  },
  {
   "cell_type": "code",
   "execution_count": 4,
   "id": "f90c1793-cdc9-442e-84a0-a26e66da2ee3",
   "metadata": {},
   "outputs": [
    {
     "data": {
      "text/plain": [
       "['Sun', 'Mon', 'Tue', 'Wed', 'Thu', 'Fri', 'Sat']"
      ]
     },
     "execution_count": 4,
     "metadata": {},
     "output_type": "execute_result"
    }
   ],
   "source": [
    "\"Sun,Mon,Tue,Wed,Thu,Fri,Sat\".split(\",\")"
   ]
  },
  {
   "cell_type": "code",
   "execution_count": 5,
   "id": "4514440f-c1ea-4ce0-af07-baec61298b76",
   "metadata": {},
   "outputs": [],
   "source": [
    "a_long_line = \"     This is a long line with some space before, after,     and some space in the middle...    \""
   ]
  },
  {
   "cell_type": "code",
   "execution_count": 7,
   "id": "cd538712-374e-4ec3-a01e-0ea64017dbcf",
   "metadata": {},
   "outputs": [],
   "source": [
    "a_long_line_stripped = a_long_line.strip()"
   ]
  },
  {
   "cell_type": "code",
   "execution_count": 8,
   "id": "b8bd0bdd-2b80-4d92-953b-aa8588629d90",
   "metadata": {},
   "outputs": [
    {
     "data": {
      "text/plain": [
       "'This is a long line with some space before, after,     and some space in the middle...'"
      ]
     },
     "execution_count": 8,
     "metadata": {},
     "output_type": "execute_result"
    }
   ],
   "source": [
    "a_long_line_stripped"
   ]
  },
  {
   "cell_type": "code",
   "execution_count": 9,
   "id": "8fae4448-2625-4024-b300-1e4a308db491",
   "metadata": {},
   "outputs": [
    {
     "name": "stdout",
     "output_type": "stream",
     "text": [
      "if a grocery store sells ice bags at ${} per bag, with a profit margin of {} %, then the total profit it makes by selling {} ice bags is $ {}.\n"
     ]
    }
   ],
   "source": [
    "#input variables\n",
    "cost_of_ice_bag = 1.25\n",
    "profit_margin = .2\n",
    "number_of_bags = 500\n",
    "\n",
    "#template for output message\n",
    "output_template = \"\"\"if a grocery store sells ice bags at ${} per bag, with a profit margin of {} %, then the total profit it makes by selling {} ice bags is $ {}.\"\"\"\n",
    "\n",
    "print(output_template)\n",
    "\n"
   ]
  },
  {
   "cell_type": "code",
   "execution_count": 10,
   "id": "aab46473-3f27-4665-a7c2-3580965ba683",
   "metadata": {},
   "outputs": [
    {
     "name": "stdout",
     "output_type": "stream",
     "text": [
      "if a grocery store sells ice bags at $1.25 per bag, with a profit margin of 20.0 %, then the total profit it makes by selling 500 ice bags is $ 125.0.\n"
     ]
    }
   ],
   "source": [
    "#inserting values into the string\n",
    "total_profit = cost_of_ice_bag * profit_margin * number_of_bags\n",
    "output_message = output_template.format(cost_of_ice_bag, profit_margin*100, number_of_bags, total_profit)\n",
    "print(output_message)"
   ]
  },
  {
   "cell_type": "code",
   "execution_count": 11,
   "id": "d3450596-1863-422e-b5a0-db2811bca6f2",
   "metadata": {},
   "outputs": [
    {
     "data": {
      "text/plain": [
       "'23'"
      ]
     },
     "execution_count": 11,
     "metadata": {},
     "output_type": "execute_result"
    }
   ],
   "source": [
    "str(23)"
   ]
  },
  {
   "cell_type": "code",
   "execution_count": 12,
   "id": "de86c8ee-0183-46af-ab50-8ea4b88a7a5f",
   "metadata": {},
   "outputs": [
    {
     "data": {
      "text/plain": [
       "'23.432'"
      ]
     },
     "execution_count": 12,
     "metadata": {},
     "output_type": "execute_result"
    }
   ],
   "source": [
    "str(23.432)"
   ]
  },
  {
   "cell_type": "code",
   "execution_count": 13,
   "id": "06cfdb23-ce31-4290-9ea8-8d966f19e497",
   "metadata": {},
   "outputs": [
    {
     "data": {
      "text/plain": [
       "'True'"
      ]
     },
     "execution_count": 13,
     "metadata": {},
     "output_type": "execute_result"
    }
   ],
   "source": [
    "str(True)"
   ]
  },
  {
   "cell_type": "code",
   "execution_count": 14,
   "id": "9b9c0f62-2312-4986-9b16-5ae8f320b52f",
   "metadata": {},
   "outputs": [
    {
     "data": {
      "text/plain": [
       "\"['Athos', 'Porthos', 'Aramis']\""
      ]
     },
     "execution_count": 14,
     "metadata": {},
     "output_type": "execute_result"
    }
   ],
   "source": [
    "the_3_musketeers = [\"Athos\", \"Porthos\", \"Aramis\"]\n",
    "str(the_3_musketeers)"
   ]
  },
  {
   "cell_type": "code",
   "execution_count": 15,
   "id": "26ac3c4b-0d28-42bb-b8bf-f7e446419690",
   "metadata": {},
   "outputs": [],
   "source": [
    "first_name = \"John\""
   ]
  },
  {
   "cell_type": "code",
   "execution_count": 16,
   "id": "82254212-6e4f-461c-a246-413d20f1d8b0",
   "metadata": {},
   "outputs": [
    {
     "data": {
      "text/plain": [
       "False"
      ]
     },
     "execution_count": 16,
     "metadata": {},
     "output_type": "execute_result"
    }
   ],
   "source": [
    "first_name == \"Doe\""
   ]
  },
  {
   "cell_type": "code",
   "execution_count": 17,
   "id": "da748b87-1dc1-4fea-845b-1c1d50361a33",
   "metadata": {},
   "outputs": [
    {
     "data": {
      "text/plain": [
       "True"
      ]
     },
     "execution_count": 17,
     "metadata": {},
     "output_type": "execute_result"
    }
   ],
   "source": [
    "first_name == \"John\""
   ]
  },
  {
   "cell_type": "code",
   "execution_count": 18,
   "id": "b4edf3dc-0595-496a-8181-8d79c77fb4bf",
   "metadata": {},
   "outputs": [
    {
     "data": {
      "text/plain": [
       "True"
      ]
     },
     "execution_count": 18,
     "metadata": {},
     "output_type": "execute_result"
    }
   ],
   "source": [
    "first_name != \"Jane\""
   ]
  },
  {
   "cell_type": "markdown",
   "id": "97b673cd-15fc-4e33-990d-870cd9137258",
   "metadata": {},
   "source": [
    "### LISTS"
   ]
  },
  {
   "cell_type": "code",
   "execution_count": 19,
   "id": "4d933c34-2bdf-45ca-9bcb-c3d461c82aa2",
   "metadata": {},
   "outputs": [],
   "source": [
    "fruits = ['apple', 'banana', 'cherry']"
   ]
  },
  {
   "cell_type": "code",
   "execution_count": 20,
   "id": "acdae69d-d333-47a0-a406-b82ac06b027c",
   "metadata": {},
   "outputs": [
    {
     "data": {
      "text/plain": [
       "['apple', 'banana', 'cherry']"
      ]
     },
     "execution_count": 20,
     "metadata": {},
     "output_type": "execute_result"
    }
   ],
   "source": [
    "fruits"
   ]
  },
  {
   "cell_type": "code",
   "execution_count": 21,
   "id": "8b17e783-27ce-4117-b61f-cbb9e56126b9",
   "metadata": {},
   "outputs": [
    {
     "data": {
      "text/plain": [
       "list"
      ]
     },
     "execution_count": 21,
     "metadata": {},
     "output_type": "execute_result"
    }
   ],
   "source": [
    "type(fruits)"
   ]
  },
  {
   "cell_type": "code",
   "execution_count": 22,
   "id": "4cc7ac82-85d0-40c2-b34f-0e4c86bd46ea",
   "metadata": {},
   "outputs": [],
   "source": [
    "a_list = [23, 'hello', None, 3.14, fruits, 3 <= 5]"
   ]
  },
  {
   "cell_type": "code",
   "execution_count": 23,
   "id": "d4b7e04d-f667-4c51-958e-f71becfb58b2",
   "metadata": {},
   "outputs": [
    {
     "data": {
      "text/plain": [
       "[23, 'hello', None, 3.14, ['apple', 'banana', 'cherry'], True]"
      ]
     },
     "execution_count": 23,
     "metadata": {},
     "output_type": "execute_result"
    }
   ],
   "source": [
    "a_list"
   ]
  },
  {
   "cell_type": "code",
   "execution_count": 24,
   "id": "44eb42f9-5e5b-4d1d-a44f-b754be7eef3c",
   "metadata": {},
   "outputs": [],
   "source": [
    "empty_list = []"
   ]
  },
  {
   "cell_type": "code",
   "execution_count": 25,
   "id": "197fadac-8fe7-47c7-9411-85f0cd7fc8e7",
   "metadata": {},
   "outputs": [
    {
     "data": {
      "text/plain": [
       "[]"
      ]
     },
     "execution_count": 25,
     "metadata": {},
     "output_type": "execute_result"
    }
   ],
   "source": [
    "empty_list"
   ]
  },
  {
   "cell_type": "code",
   "execution_count": 26,
   "id": "daaa7c6e-2f0d-4ef1-8ae6-4d1dc9381ae8",
   "metadata": {},
   "outputs": [
    {
     "data": {
      "text/plain": [
       "3"
      ]
     },
     "execution_count": 26,
     "metadata": {},
     "output_type": "execute_result"
    }
   ],
   "source": [
    "len(fruits)"
   ]
  },
  {
   "cell_type": "code",
   "execution_count": 27,
   "id": "c47af160-2da4-4cc0-b57a-0210fad0fae6",
   "metadata": {},
   "outputs": [
    {
     "name": "stdout",
     "output_type": "stream",
     "text": [
      "Number of fruits: 3\n"
     ]
    }
   ],
   "source": [
    "print(\"Number of fruits:\", len(fruits))"
   ]
  },
  {
   "cell_type": "code",
   "execution_count": 28,
   "id": "3da85e6d-e543-4648-bb3c-36ec15e2bb4c",
   "metadata": {},
   "outputs": [
    {
     "data": {
      "text/plain": [
       "6"
      ]
     },
     "execution_count": 28,
     "metadata": {},
     "output_type": "execute_result"
    }
   ],
   "source": [
    "len(a_list)"
   ]
  },
  {
   "cell_type": "code",
   "execution_count": 29,
   "id": "29f452e7-80da-4925-935d-c6814a132e38",
   "metadata": {},
   "outputs": [
    {
     "data": {
      "text/plain": [
       "0"
      ]
     },
     "execution_count": 29,
     "metadata": {},
     "output_type": "execute_result"
    }
   ],
   "source": [
    "len(empty_list)"
   ]
  },
  {
   "cell_type": "code",
   "execution_count": 30,
   "id": "221d4dc6-b45f-4106-89db-1a64685d079f",
   "metadata": {},
   "outputs": [
    {
     "data": {
      "text/plain": [
       "'apple'"
      ]
     },
     "execution_count": 30,
     "metadata": {},
     "output_type": "execute_result"
    }
   ],
   "source": [
    "fruits[0]"
   ]
  },
  {
   "cell_type": "code",
   "execution_count": 31,
   "id": "d99cd813-ec76-4e2a-8332-3402cd2cb9e5",
   "metadata": {},
   "outputs": [
    {
     "data": {
      "text/plain": [
       "'banana'"
      ]
     },
     "execution_count": 31,
     "metadata": {},
     "output_type": "execute_result"
    }
   ],
   "source": [
    "fruits[1]"
   ]
  },
  {
   "cell_type": "code",
   "execution_count": 32,
   "id": "f5bb8167-5fe7-42b6-822b-370a16e0b4a9",
   "metadata": {},
   "outputs": [
    {
     "data": {
      "text/plain": [
       "'cherry'"
      ]
     },
     "execution_count": 32,
     "metadata": {},
     "output_type": "execute_result"
    }
   ],
   "source": [
    "fruits[2]"
   ]
  },
  {
   "cell_type": "code",
   "execution_count": 33,
   "id": "121ec14c-6efd-415b-a061-fc4e4fff0b2c",
   "metadata": {},
   "outputs": [
    {
     "ename": "IndexError",
     "evalue": "list index out of range",
     "output_type": "error",
     "traceback": [
      "\u001b[1;31m---------------------------------------------------------------------------\u001b[0m",
      "\u001b[1;31mIndexError\u001b[0m                                Traceback (most recent call last)",
      "Cell \u001b[1;32mIn[33], line 1\u001b[0m\n\u001b[1;32m----> 1\u001b[0m fruits[\u001b[38;5;241m3\u001b[39m]\n",
      "\u001b[1;31mIndexError\u001b[0m: list index out of range"
     ]
    }
   ],
   "source": [
    "fruits[3]"
   ]
  },
  {
   "cell_type": "code",
   "execution_count": 34,
   "id": "5189b37b-592b-4303-b0a3-d2ef4eb54838",
   "metadata": {},
   "outputs": [
    {
     "data": {
      "text/plain": [
       "'cherry'"
      ]
     },
     "execution_count": 34,
     "metadata": {},
     "output_type": "execute_result"
    }
   ],
   "source": [
    "fruits[-1]"
   ]
  },
  {
   "cell_type": "code",
   "execution_count": 35,
   "id": "efba8b6f-944f-42ff-8ab4-48faecfa4098",
   "metadata": {},
   "outputs": [
    {
     "data": {
      "text/plain": [
       "'banana'"
      ]
     },
     "execution_count": 35,
     "metadata": {},
     "output_type": "execute_result"
    }
   ],
   "source": [
    "fruits[-2]"
   ]
  },
  {
   "cell_type": "code",
   "execution_count": 36,
   "id": "9eb8651f-a47a-45dc-ae98-d4a19e299004",
   "metadata": {},
   "outputs": [
    {
     "data": {
      "text/plain": [
       "[23, 'hello', None, 3.14, ['apple', 'banana', 'cherry'], True]"
      ]
     },
     "execution_count": 36,
     "metadata": {},
     "output_type": "execute_result"
    }
   ],
   "source": [
    "a_list"
   ]
  },
  {
   "cell_type": "code",
   "execution_count": 37,
   "id": "5770f976-7efa-4f5b-93cd-0c2c068e8be9",
   "metadata": {},
   "outputs": [
    {
     "data": {
      "text/plain": [
       "[None, 3.14, ['apple', 'banana', 'cherry']]"
      ]
     },
     "execution_count": 37,
     "metadata": {},
     "output_type": "execute_result"
    }
   ],
   "source": [
    "a_list[2:5]"
   ]
  },
  {
   "cell_type": "code",
   "execution_count": 40,
   "id": "cb278e22-fd59-4d4d-a46f-d0b45d126e19",
   "metadata": {},
   "outputs": [
    {
     "data": {
      "text/plain": [
       "[]"
      ]
     },
     "execution_count": 40,
     "metadata": {},
     "output_type": "execute_result"
    }
   ],
   "source": [
    "a_list[-2:-5]"
   ]
  },
  {
   "cell_type": "code",
   "execution_count": 39,
   "id": "183c5e41-4a08-4b43-867c-e8e7290b98c0",
   "metadata": {},
   "outputs": [
    {
     "data": {
      "text/plain": [
       "['hello', None, 3.14]"
      ]
     },
     "execution_count": 39,
     "metadata": {},
     "output_type": "execute_result"
    }
   ],
   "source": [
    "a_list[-5:-2]"
   ]
  },
  {
   "cell_type": "code",
   "execution_count": 41,
   "id": "e034c541-03b1-4ae6-8cf0-c0e7681ef400",
   "metadata": {},
   "outputs": [
    {
     "data": {
      "text/plain": [
       "['apple', 'banana', 'cherry']"
      ]
     },
     "execution_count": 41,
     "metadata": {},
     "output_type": "execute_result"
    }
   ],
   "source": [
    "fruits"
   ]
  },
  {
   "cell_type": "code",
   "execution_count": 42,
   "id": "f54e0407-8a0c-487e-9d76-5f64e086b149",
   "metadata": {},
   "outputs": [],
   "source": [
    "fruits[1] = 'blueberry'"
   ]
  },
  {
   "cell_type": "code",
   "execution_count": 43,
   "id": "b021d126-e5dd-4474-8f67-ce429fd6f564",
   "metadata": {},
   "outputs": [
    {
     "data": {
      "text/plain": [
       "['apple', 'blueberry', 'cherry']"
      ]
     },
     "execution_count": 43,
     "metadata": {},
     "output_type": "execute_result"
    }
   ],
   "source": [
    "fruits"
   ]
  },
  {
   "cell_type": "code",
   "execution_count": 44,
   "id": "bd163ec5-98a1-426d-9401-2dfbc55dadcd",
   "metadata": {},
   "outputs": [],
   "source": [
    "fruits.append('dates')"
   ]
  },
  {
   "cell_type": "code",
   "execution_count": 45,
   "id": "b2c1bb5e-29a7-4ce8-883b-7f6f7991769e",
   "metadata": {},
   "outputs": [
    {
     "data": {
      "text/plain": [
       "['apple', 'blueberry', 'cherry', 'dates']"
      ]
     },
     "execution_count": 45,
     "metadata": {},
     "output_type": "execute_result"
    }
   ],
   "source": [
    "fruits"
   ]
  },
  {
   "cell_type": "code",
   "execution_count": 46,
   "id": "3987bc8b-cb21-40d8-8767-ec9ec49abdb7",
   "metadata": {},
   "outputs": [],
   "source": [
    "fruits.insert(1, 'banana')"
   ]
  },
  {
   "cell_type": "code",
   "execution_count": 47,
   "id": "079c75a3-c8d3-4380-bd1d-2a4416370b96",
   "metadata": {},
   "outputs": [
    {
     "data": {
      "text/plain": [
       "['apple', 'banana', 'blueberry', 'cherry', 'dates']"
      ]
     },
     "execution_count": 47,
     "metadata": {},
     "output_type": "execute_result"
    }
   ],
   "source": [
    "fruits"
   ]
  },
  {
   "cell_type": "code",
   "execution_count": 48,
   "id": "1d5f7022-c083-4749-a67e-144938826bb6",
   "metadata": {},
   "outputs": [],
   "source": [
    "fruits.remove('blueberry')"
   ]
  },
  {
   "cell_type": "code",
   "execution_count": 49,
   "id": "7fc3a5ff-43da-4e39-bee7-3e451ae5de74",
   "metadata": {},
   "outputs": [
    {
     "data": {
      "text/plain": [
       "['apple', 'banana', 'cherry', 'dates']"
      ]
     },
     "execution_count": 49,
     "metadata": {},
     "output_type": "execute_result"
    }
   ],
   "source": [
    "fruits"
   ]
  },
  {
   "cell_type": "code",
   "execution_count": 50,
   "id": "8c6693a9-e94f-4eb2-b855-8bc2e2f2608f",
   "metadata": {},
   "outputs": [
    {
     "data": {
      "text/plain": [
       "'banana'"
      ]
     },
     "execution_count": 50,
     "metadata": {},
     "output_type": "execute_result"
    }
   ],
   "source": [
    "fruits.pop(1)"
   ]
  },
  {
   "cell_type": "code",
   "execution_count": 51,
   "id": "30ecfbce-988e-455d-93e0-d46c489d122c",
   "metadata": {},
   "outputs": [
    {
     "data": {
      "text/plain": [
       "['apple', 'cherry', 'dates']"
      ]
     },
     "execution_count": 51,
     "metadata": {},
     "output_type": "execute_result"
    }
   ],
   "source": [
    "fruits"
   ]
  },
  {
   "cell_type": "code",
   "execution_count": 52,
   "id": "990b06d2-0c52-49ab-8c7f-b9b897462a69",
   "metadata": {},
   "outputs": [
    {
     "data": {
      "text/plain": [
       "False"
      ]
     },
     "execution_count": 52,
     "metadata": {},
     "output_type": "execute_result"
    }
   ],
   "source": [
    "'pineapple' in fruits"
   ]
  },
  {
   "cell_type": "code",
   "execution_count": 53,
   "id": "0c353b4c-c7ad-4007-99cf-1aa66005d8d6",
   "metadata": {},
   "outputs": [
    {
     "data": {
      "text/plain": [
       "True"
      ]
     },
     "execution_count": 53,
     "metadata": {},
     "output_type": "execute_result"
    }
   ],
   "source": [
    "'cherry' in fruits"
   ]
  },
  {
   "cell_type": "code",
   "execution_count": 54,
   "id": "b5b67afc-3878-47be-8b57-d9e63e1aa908",
   "metadata": {},
   "outputs": [
    {
     "data": {
      "text/plain": [
       "['apple', 'cherry', 'dates']"
      ]
     },
     "execution_count": 54,
     "metadata": {},
     "output_type": "execute_result"
    }
   ],
   "source": [
    "fruits"
   ]
  },
  {
   "cell_type": "code",
   "execution_count": 55,
   "id": "76917f68-e4b6-4021-8fd1-3b70009f1936",
   "metadata": {},
   "outputs": [],
   "source": [
    "more_fruits = fruits + ['pineapple', 'tomato', 'guava'] + ['dates', 'banana']"
   ]
  },
  {
   "cell_type": "code",
   "execution_count": 56,
   "id": "ccc39940-f0db-4e71-98e2-1d9fc7e3b01f",
   "metadata": {},
   "outputs": [
    {
     "data": {
      "text/plain": [
       "['apple', 'cherry', 'dates', 'pineapple', 'tomato', 'guava', 'dates', 'banana']"
      ]
     },
     "execution_count": 56,
     "metadata": {},
     "output_type": "execute_result"
    }
   ],
   "source": [
    "more_fruits"
   ]
  },
  {
   "cell_type": "code",
   "execution_count": 65,
   "id": "361166c7-1f3c-4cd6-be72-9f5046ee1db8",
   "metadata": {},
   "outputs": [],
   "source": [
    "more_fruits_copy = more_fruits.copy()"
   ]
  },
  {
   "cell_type": "code",
   "execution_count": 66,
   "id": "9ea3678b-55ee-4020-98cc-2dbc268b80a4",
   "metadata": {},
   "outputs": [
    {
     "data": {
      "text/plain": [
       "['apple', 'cherry', 'dates', 'pineapple', 'tomato', 'guava', 'dates', 'banana']"
      ]
     },
     "execution_count": 66,
     "metadata": {},
     "output_type": "execute_result"
    }
   ],
   "source": [
    "more_fruits_copy"
   ]
  },
  {
   "cell_type": "code",
   "execution_count": 68,
   "id": "bcbfb222-1efd-4764-9dad-1b3005bb3d96",
   "metadata": {},
   "outputs": [],
   "source": [
    "#modify the copy\n",
    "more_fruits_copy.remove('pineapple')"
   ]
  },
  {
   "cell_type": "code",
   "execution_count": 69,
   "id": "457269a1-7b49-4714-9190-3e79759b1ec8",
   "metadata": {},
   "outputs": [
    {
     "data": {
      "text/plain": [
       "'cherry'"
      ]
     },
     "execution_count": 69,
     "metadata": {},
     "output_type": "execute_result"
    }
   ],
   "source": [
    "more_fruits_copy.pop(1)"
   ]
  },
  {
   "cell_type": "code",
   "execution_count": 70,
   "id": "f9e16db6-ed94-481f-a0f3-d7c8120f845e",
   "metadata": {},
   "outputs": [
    {
     "data": {
      "text/plain": [
       "['apple', 'dates', 'tomato', 'guava', 'dates', 'banana']"
      ]
     },
     "execution_count": 70,
     "metadata": {},
     "output_type": "execute_result"
    }
   ],
   "source": [
    "more_fruits_copy"
   ]
  },
  {
   "cell_type": "markdown",
   "id": "27230694-4f10-4c00-bb4b-6b88560b34bb",
   "metadata": {},
   "source": [
    "### TUPLE"
   ]
  },
  {
   "cell_type": "code",
   "execution_count": 71,
   "id": "3712243b-327b-4496-a9dc-f9b3e5273ba8",
   "metadata": {},
   "outputs": [],
   "source": [
    "fruits = ('apple', 'cherry', 'dates')"
   ]
  },
  {
   "cell_type": "code",
   "execution_count": 72,
   "id": "c3b875e5-2852-49d5-a071-a6e587d4dabb",
   "metadata": {},
   "outputs": [
    {
     "data": {
      "text/plain": [
       "3"
      ]
     },
     "execution_count": 72,
     "metadata": {},
     "output_type": "execute_result"
    }
   ],
   "source": [
    "#check no. of elements\n",
    "len(fruits)"
   ]
  },
  {
   "cell_type": "code",
   "execution_count": 73,
   "id": "836707ca-1772-47b3-8983-59773eab968d",
   "metadata": {},
   "outputs": [
    {
     "data": {
      "text/plain": [
       "'apple'"
      ]
     },
     "execution_count": 73,
     "metadata": {},
     "output_type": "execute_result"
    }
   ],
   "source": [
    "#get an element (positive index)\n",
    "fruits[0]"
   ]
  },
  {
   "cell_type": "code",
   "execution_count": 74,
   "id": "0e40b018-c62a-4a97-b235-4b1464b80cdb",
   "metadata": {},
   "outputs": [
    {
     "data": {
      "text/plain": [
       "'cherry'"
      ]
     },
     "execution_count": 74,
     "metadata": {},
     "output_type": "execute_result"
    }
   ],
   "source": [
    "#get an element (negative index)\n",
    "fruits[-2]"
   ]
  },
  {
   "cell_type": "code",
   "execution_count": 75,
   "id": "e72884df-bd2f-4458-9d12-4a8f5c7cd478",
   "metadata": {},
   "outputs": [
    {
     "data": {
      "text/plain": [
       "True"
      ]
     },
     "execution_count": 75,
     "metadata": {},
     "output_type": "execute_result"
    }
   ],
   "source": [
    "#check if it contains an element\n",
    "'dates' in fruits"
   ]
  },
  {
   "cell_type": "code",
   "execution_count": 76,
   "id": "bb69f38b-c133-4cb5-aa77-82e130fba6cf",
   "metadata": {},
   "outputs": [
    {
     "ename": "TypeError",
     "evalue": "'tuple' object does not support item assignment",
     "output_type": "error",
     "traceback": [
      "\u001b[1;31m---------------------------------------------------------------------------\u001b[0m",
      "\u001b[1;31mTypeError\u001b[0m                                 Traceback (most recent call last)",
      "Cell \u001b[1;32mIn[76], line 2\u001b[0m\n\u001b[0;32m      1\u001b[0m \u001b[38;5;66;03m#try to change an element\u001b[39;00m\n\u001b[1;32m----> 2\u001b[0m fruits[\u001b[38;5;241m0\u001b[39m] \u001b[38;5;241m=\u001b[39m \u001b[38;5;124m'\u001b[39m\u001b[38;5;124mavocado\u001b[39m\u001b[38;5;124m'\u001b[39m\n",
      "\u001b[1;31mTypeError\u001b[0m: 'tuple' object does not support item assignment"
     ]
    }
   ],
   "source": [
    "#try to change an element not possible in tuples\n",
    "fruits[0] = 'avocado'"
   ]
  },
  {
   "cell_type": "code",
   "execution_count": 77,
   "id": "bda1aa1f-8290-4ca2-9718-f4b52b1a44ce",
   "metadata": {},
   "outputs": [
    {
     "ename": "AttributeError",
     "evalue": "'tuple' object has no attribute 'append'",
     "output_type": "error",
     "traceback": [
      "\u001b[1;31m---------------------------------------------------------------------------\u001b[0m",
      "\u001b[1;31mAttributeError\u001b[0m                            Traceback (most recent call last)",
      "Cell \u001b[1;32mIn[77], line 2\u001b[0m\n\u001b[0;32m      1\u001b[0m \u001b[38;5;66;03m#try to append an element\u001b[39;00m\n\u001b[1;32m----> 2\u001b[0m fruits\u001b[38;5;241m.\u001b[39mappend(\u001b[38;5;124m'\u001b[39m\u001b[38;5;124mblueberry\u001b[39m\u001b[38;5;124m'\u001b[39m)\n",
      "\u001b[1;31mAttributeError\u001b[0m: 'tuple' object has no attribute 'append'"
     ]
    }
   ],
   "source": [
    "#try to append an element not possible in tuples\n",
    "fruits.append('blueberry')"
   ]
  },
  {
   "cell_type": "code",
   "execution_count": 78,
   "id": "cffebfb5-d8b2-4bda-b5fc-94c7faaf8579",
   "metadata": {},
   "outputs": [
    {
     "ename": "AttributeError",
     "evalue": "'tuple' object has no attribute 'remove'",
     "output_type": "error",
     "traceback": [
      "\u001b[1;31m---------------------------------------------------------------------------\u001b[0m",
      "\u001b[1;31mAttributeError\u001b[0m                            Traceback (most recent call last)",
      "Cell \u001b[1;32mIn[78], line 2\u001b[0m\n\u001b[0;32m      1\u001b[0m \u001b[38;5;66;03m#try to remove an element\u001b[39;00m\n\u001b[1;32m----> 2\u001b[0m fruits\u001b[38;5;241m.\u001b[39mremove(\u001b[38;5;124m'\u001b[39m\u001b[38;5;124mapple\u001b[39m\u001b[38;5;124m'\u001b[39m)\n",
      "\u001b[1;31mAttributeError\u001b[0m: 'tuple' object has no attribute 'remove'"
     ]
    }
   ],
   "source": [
    "#try to remove an element not possible in tuples\n",
    "fruits.remove('apple')"
   ]
  },
  {
   "cell_type": "code",
   "execution_count": 79,
   "id": "31b10d3a-4daa-445d-9773-5a45f0c54ff0",
   "metadata": {},
   "outputs": [
    {
     "data": {
      "text/plain": [
       "('one', 'two', 'three')"
      ]
     },
     "execution_count": 79,
     "metadata": {},
     "output_type": "execute_result"
    }
   ],
   "source": [
    "tuple(['one', 'two', 'three'])"
   ]
  },
  {
   "cell_type": "code",
   "execution_count": 80,
   "id": "9b5371d8-e394-4934-9d89-047c4d2a8e54",
   "metadata": {},
   "outputs": [
    {
     "data": {
      "text/plain": [
       "['Athos', 'Porthos', 'Aramis']"
      ]
     },
     "execution_count": 80,
     "metadata": {},
     "output_type": "execute_result"
    }
   ],
   "source": [
    "list(('Athos', 'Porthos', 'Aramis'))"
   ]
  },
  {
   "cell_type": "code",
   "execution_count": 81,
   "id": "42a598bd-f8de-408d-98e2-ccf6597084e8",
   "metadata": {},
   "outputs": [],
   "source": [
    "a_tuple = 23, \"hello\", False, None, 23, 37, \"hello\""
   ]
  },
  {
   "cell_type": "code",
   "execution_count": 82,
   "id": "fb9efc0a-8e11-4141-afd1-d48d041ad673",
   "metadata": {},
   "outputs": [
    {
     "name": "stdout",
     "output_type": "stream",
     "text": [
      "Help on built-in function count:\n",
      "\n",
      "count(value, /) method of builtins.tuple instance\n",
      "    Return number of occurrences of value.\n",
      "\n"
     ]
    }
   ],
   "source": [
    "help(a_tuple.count)"
   ]
  },
  {
   "cell_type": "markdown",
   "id": "18afdeb5-e06c-4ebe-812b-5ed939eec4b3",
   "metadata": {},
   "source": [
    "### DICTIONARY"
   ]
  },
  {
   "cell_type": "code",
   "execution_count": 85,
   "id": "dbb32d0b-4584-4ee6-8ace-0441a1da6706",
   "metadata": {},
   "outputs": [],
   "source": [
    "person1 = {'name' : 'John Doe', 'sex' : 'Male', 'age' : 32, 'married' : True}"
   ]
  },
  {
   "cell_type": "code",
   "execution_count": 86,
   "id": "87f615ff-6dd7-4a09-b45b-0eb23b871733",
   "metadata": {},
   "outputs": [
    {
     "data": {
      "text/plain": [
       "{'name': 'John Doe', 'sex': 'Male', 'age': 32, 'married': True}"
      ]
     },
     "execution_count": 86,
     "metadata": {},
     "output_type": "execute_result"
    }
   ],
   "source": [
    "person1"
   ]
  },
  {
   "cell_type": "code",
   "execution_count": 87,
   "id": "f4987080-8966-4f1b-9c3b-034265d537ff",
   "metadata": {},
   "outputs": [],
   "source": [
    "#dictionaries can also be created using the dict function\n",
    "person2 = dict(name='Jane Judy', sex='Female', age=28, married=False)"
   ]
  },
  {
   "cell_type": "code",
   "execution_count": 88,
   "id": "83f6fc77-5621-4b6e-83fd-9b52bac14e27",
   "metadata": {},
   "outputs": [
    {
     "data": {
      "text/plain": [
       "{'name': 'Jane Judy', 'sex': 'Female', 'age': 28, 'married': False}"
      ]
     },
     "execution_count": 88,
     "metadata": {},
     "output_type": "execute_result"
    }
   ],
   "source": [
    "person2"
   ]
  },
  {
   "cell_type": "code",
   "execution_count": 89,
   "id": "e94d86a7-9da9-4b38-a2fd-8f85cfcbfac5",
   "metadata": {},
   "outputs": [
    {
     "data": {
      "text/plain": [
       "dict"
      ]
     },
     "execution_count": 89,
     "metadata": {},
     "output_type": "execute_result"
    }
   ],
   "source": [
    "type(person1)"
   ]
  },
  {
   "cell_type": "code",
   "execution_count": 90,
   "id": "1f164713-ef8b-47a3-ad87-ee8c5754a8f6",
   "metadata": {},
   "outputs": [
    {
     "data": {
      "text/plain": [
       "dict"
      ]
     },
     "execution_count": 90,
     "metadata": {},
     "output_type": "execute_result"
    }
   ],
   "source": [
    "type(person2)"
   ]
  },
  {
   "cell_type": "code",
   "execution_count": null,
   "id": "f9b35ca9-c0ce-4537-978c-fef2d60eb4f0",
   "metadata": {},
   "outputs": [],
   "source": [
    "#keys can be used to access values from a dictionary"
   ]
  },
  {
   "cell_type": "code",
   "execution_count": 91,
   "id": "3fb4f82d-a277-4978-be56-d3604d2b52f3",
   "metadata": {},
   "outputs": [
    {
     "data": {
      "text/plain": [
       "'John Doe'"
      ]
     },
     "execution_count": 91,
     "metadata": {},
     "output_type": "execute_result"
    }
   ],
   "source": [
    "person1['name']"
   ]
  },
  {
   "cell_type": "code",
   "execution_count": 92,
   "id": "f9cee2a4-261b-4498-9fdb-68f409edb11b",
   "metadata": {},
   "outputs": [
    {
     "data": {
      "text/plain": [
       "True"
      ]
     },
     "execution_count": 92,
     "metadata": {},
     "output_type": "execute_result"
    }
   ],
   "source": [
    "person1['married']"
   ]
  },
  {
   "cell_type": "code",
   "execution_count": 93,
   "id": "b363fc6e-5a07-4835-b156-e1df5429bf2a",
   "metadata": {},
   "outputs": [
    {
     "data": {
      "text/plain": [
       "'Jane Judy'"
      ]
     },
     "execution_count": 93,
     "metadata": {},
     "output_type": "execute_result"
    }
   ],
   "source": [
    "person2['name']"
   ]
  },
  {
   "cell_type": "code",
   "execution_count": 95,
   "id": "ce5e9c2e-0bd6-4781-8fd7-a68e62dd42ff",
   "metadata": {},
   "outputs": [
    {
     "data": {
      "text/plain": [
       "'unknown'"
      ]
     },
     "execution_count": 95,
     "metadata": {},
     "output_type": "execute_result"
    }
   ],
   "source": [
    "person2.get('address', 'unknown')"
   ]
  },
  {
   "cell_type": "code",
   "execution_count": 96,
   "id": "d15fce4e-d12e-488e-8e2e-4a0e8ebaf101",
   "metadata": {},
   "outputs": [
    {
     "data": {
      "text/plain": [
       "True"
      ]
     },
     "execution_count": 96,
     "metadata": {},
     "output_type": "execute_result"
    }
   ],
   "source": [
    "'name' in person1"
   ]
  },
  {
   "cell_type": "code",
   "execution_count": 97,
   "id": "e9e859ae-1793-49e8-a98f-6966e19f2eb9",
   "metadata": {},
   "outputs": [
    {
     "data": {
      "text/plain": [
       "False"
      ]
     },
     "execution_count": 97,
     "metadata": {},
     "output_type": "execute_result"
    }
   ],
   "source": [
    "'address' in person1"
   ]
  },
  {
   "cell_type": "code",
   "execution_count": null,
   "id": "d5c7b796-74c3-4706-994c-0bc666189b5d",
   "metadata": {},
   "outputs": [],
   "source": [
    "#you can change the value associated with a key using the assignment operator"
   ]
  },
  {
   "cell_type": "code",
   "execution_count": 98,
   "id": "8e4e3aa8-bc65-4895-a95f-6b2d6e5770fe",
   "metadata": {},
   "outputs": [
    {
     "data": {
      "text/plain": [
       "False"
      ]
     },
     "execution_count": 98,
     "metadata": {},
     "output_type": "execute_result"
    }
   ],
   "source": [
    "person2['married']"
   ]
  },
  {
   "cell_type": "code",
   "execution_count": 99,
   "id": "d3d22d31-77c9-4dc9-9404-99d8e03f9b1b",
   "metadata": {},
   "outputs": [],
   "source": [
    "person2['married'] = True"
   ]
  },
  {
   "cell_type": "code",
   "execution_count": 100,
   "id": "79a8ed43-88f3-46f3-8c06-dbfd5b302f0e",
   "metadata": {},
   "outputs": [
    {
     "data": {
      "text/plain": [
       "True"
      ]
     },
     "execution_count": 100,
     "metadata": {},
     "output_type": "execute_result"
    }
   ],
   "source": [
    "person2['married']"
   ]
  },
  {
   "cell_type": "code",
   "execution_count": null,
   "id": "4cc10cbe-e980-4ce0-897c-04c8a9ea9404",
   "metadata": {},
   "outputs": [],
   "source": [
    "#the assignment operator can also be used to add new key-value pairs"
   ]
  },
  {
   "cell_type": "code",
   "execution_count": 101,
   "id": "cb4ed24e-3f55-405b-a237-12550a1a0558",
   "metadata": {},
   "outputs": [
    {
     "data": {
      "text/plain": [
       "{'name': 'John Doe', 'sex': 'Male', 'age': 32, 'married': True}"
      ]
     },
     "execution_count": 101,
     "metadata": {},
     "output_type": "execute_result"
    }
   ],
   "source": [
    "person1"
   ]
  },
  {
   "cell_type": "code",
   "execution_count": 102,
   "id": "91157eca-e415-4d30-b475-5548230f43b1",
   "metadata": {},
   "outputs": [],
   "source": [
    "person1['address'] = '1, penny lane'"
   ]
  },
  {
   "cell_type": "code",
   "execution_count": 103,
   "id": "69c49661-d135-4988-9398-f07d924e5afd",
   "metadata": {},
   "outputs": [
    {
     "data": {
      "text/plain": [
       "{'name': 'John Doe',\n",
       " 'sex': 'Male',\n",
       " 'age': 32,\n",
       " 'married': True,\n",
       " 'address': '1, penny lane'}"
      ]
     },
     "execution_count": 103,
     "metadata": {},
     "output_type": "execute_result"
    }
   ],
   "source": [
    "person1"
   ]
  },
  {
   "cell_type": "code",
   "execution_count": null,
   "id": "b42dfb12-b2ca-4b92-a21b-70fcc4e93fa1",
   "metadata": {},
   "outputs": [],
   "source": [
    "#to remove a key and the associated value from a dictionary"
   ]
  },
  {
   "cell_type": "code",
   "execution_count": 104,
   "id": "b621652a-fa8c-4ff6-98c7-deea9883e8d8",
   "metadata": {},
   "outputs": [
    {
     "data": {
      "text/plain": [
       "'1, penny lane'"
      ]
     },
     "execution_count": 104,
     "metadata": {},
     "output_type": "execute_result"
    }
   ],
   "source": [
    "person1.pop('address')"
   ]
  },
  {
   "cell_type": "code",
   "execution_count": 105,
   "id": "2b2ac42c-a67b-4f0f-a622-70b47d703b4f",
   "metadata": {},
   "outputs": [
    {
     "data": {
      "text/plain": [
       "{'name': 'John Doe', 'sex': 'Male', 'age': 32, 'married': True}"
      ]
     },
     "execution_count": 105,
     "metadata": {},
     "output_type": "execute_result"
    }
   ],
   "source": [
    "person1"
   ]
  },
  {
   "cell_type": "code",
   "execution_count": 106,
   "id": "742d5cfb-5702-440b-bca5-ff3d0efed2a0",
   "metadata": {},
   "outputs": [
    {
     "data": {
      "text/plain": [
       "dict_keys(['name', 'sex', 'age', 'married'])"
      ]
     },
     "execution_count": 106,
     "metadata": {},
     "output_type": "execute_result"
    }
   ],
   "source": [
    "person1.keys()"
   ]
  },
  {
   "cell_type": "code",
   "execution_count": 107,
   "id": "6418d052-df1e-43b7-991c-f3ed53ffddde",
   "metadata": {},
   "outputs": [
    {
     "data": {
      "text/plain": [
       "dict_values(['John Doe', 'Male', 32, True])"
      ]
     },
     "execution_count": 107,
     "metadata": {},
     "output_type": "execute_result"
    }
   ],
   "source": [
    "person1.values()"
   ]
  },
  {
   "cell_type": "code",
   "execution_count": 108,
   "id": "48749f7f-2c5b-4e7a-99a6-e07878030aa4",
   "metadata": {},
   "outputs": [
    {
     "data": {
      "text/plain": [
       "dict_items([('name', 'John Doe'), ('sex', 'Male'), ('age', 32), ('married', True)])"
      ]
     },
     "execution_count": 108,
     "metadata": {},
     "output_type": "execute_result"
    }
   ],
   "source": [
    "person1.items()"
   ]
  },
  {
   "cell_type": "markdown",
   "id": "476915ff-5923-4ee8-8940-58f1e3256323",
   "metadata": {},
   "source": [
    "## BRANCHING AND LOOPS"
   ]
  },
  {
   "cell_type": "code",
   "execution_count": null,
   "id": "2c7736f2-34f6-4dbe-bc7d-bafc23a0706e",
   "metadata": {},
   "outputs": [],
   "source": [
    "#BRANCHING WITH IF, ELSE AND ELIF"
   ]
  },
  {
   "cell_type": "code",
   "execution_count": null,
   "id": "66d01f30-ecbd-4a71-b176-bc9387254a5a",
   "metadata": {},
   "outputs": [],
   "source": [
    "#if condition:\n",
    "    #statement1\n",
    "    #statement2"
   ]
  },
  {
   "cell_type": "code",
   "execution_count": 109,
   "id": "2711545c-354c-4562-b8b4-954473700346",
   "metadata": {},
   "outputs": [],
   "source": [
    "a_number = 34"
   ]
  },
  {
   "cell_type": "code",
   "execution_count": 110,
   "id": "05f4583f-e507-49d7-9d7d-489f1afa2cdf",
   "metadata": {},
   "outputs": [
    {
     "name": "stdout",
     "output_type": "stream",
     "text": [
      "We're inside an if block\n",
      "The given number 34 is even.\n"
     ]
    }
   ],
   "source": [
    "if a_number % 2 == 0:\n",
    "    print(\"We're inside an if block\")\n",
    "    print('The given number {} is even.'.format(a_number))"
   ]
  },
  {
   "cell_type": "code",
   "execution_count": 111,
   "id": "64df9011-953d-4c8a-95d4-97d838d7d541",
   "metadata": {},
   "outputs": [],
   "source": [
    "another_number = 33"
   ]
  },
  {
   "cell_type": "code",
   "execution_count": 112,
   "id": "8672c2a5-c7ad-4cd1-806a-fbfec7f9dead",
   "metadata": {},
   "outputs": [],
   "source": [
    "if another_number % 2 == 0:\n",
    "    print('The given number {} is even.'.format(a_number))"
   ]
  },
  {
   "cell_type": "code",
   "execution_count": null,
   "id": "fd6910a8-1688-4194-8125-023e0418947b",
   "metadata": {},
   "outputs": [],
   "source": [
    "#the else statement\n",
    "#if condition:\n",
    "    #statement1\n",
    "    #statement2\n",
    "#else:\n",
    "    #statement4\n",
    "    #statement5\n"
   ]
  },
  {
   "cell_type": "code",
   "execution_count": 113,
   "id": "29e659a9-df05-4792-bf73-7a562a0fdc01",
   "metadata": {},
   "outputs": [],
   "source": [
    "a_number = 34"
   ]
  },
  {
   "cell_type": "code",
   "execution_count": 114,
   "id": "0f98b338-c1eb-41c0-ae1a-cd1a075a5570",
   "metadata": {},
   "outputs": [
    {
     "name": "stdout",
     "output_type": "stream",
     "text": [
      "The given number 34 is even.\n"
     ]
    }
   ],
   "source": [
    "if a_number % 2 == 0:\n",
    "    print('The given number {} is even.'.format(a_number))\n",
    "else:\n",
    "    print('The given number {} is odd.'.format(a_number))"
   ]
  },
  {
   "cell_type": "code",
   "execution_count": 115,
   "id": "05d2e4b0-5586-4cce-87a4-a5b651f8c8e0",
   "metadata": {},
   "outputs": [],
   "source": [
    "another_number = 33"
   ]
  },
  {
   "cell_type": "code",
   "execution_count": 116,
   "id": "a7366323-ddf9-47f4-9bd1-658f8e831bef",
   "metadata": {},
   "outputs": [
    {
     "name": "stdout",
     "output_type": "stream",
     "text": [
      "The given number 33 is odd.\n"
     ]
    }
   ],
   "source": [
    "if another_number % 2 == 0:\n",
    "    print('the given number {} is even.'.format(another_number))\n",
    "else:\n",
    "    print('The given number {} is odd.'.format(another_number))"
   ]
  },
  {
   "cell_type": "code",
   "execution_count": 117,
   "id": "41828c40-8285-44a4-b835-2c05cb933018",
   "metadata": {},
   "outputs": [],
   "source": [
    "the_3_musketeers = ('Athos', 'Porthos', 'Aramis')"
   ]
  },
  {
   "cell_type": "code",
   "execution_count": 118,
   "id": "565e40ea-2d0f-49c9-8eaf-0efb1276d388",
   "metadata": {},
   "outputs": [],
   "source": [
    "a_candidate = \"D'artagnan\""
   ]
  },
  {
   "cell_type": "code",
   "execution_count": 119,
   "id": "8dbdc11b-d442-4570-ac81-d4d71aa31a80",
   "metadata": {},
   "outputs": [
    {
     "name": "stdout",
     "output_type": "stream",
     "text": [
      "D'artagnan is not a musketeer\n"
     ]
    }
   ],
   "source": [
    "if a_candidate in the_3_musketeers:\n",
    "    print(\"{} is a musketeer\".format(a_candidate))\n",
    "else:\n",
    "    print(\"{} is not a musketeer\".format(a_candidate))"
   ]
  },
  {
   "cell_type": "code",
   "execution_count": null,
   "id": "ea5ec419-242d-4a8a-8eaa-8048c088613f",
   "metadata": {},
   "outputs": [],
   "source": [
    "#the elif statement"
   ]
  },
  {
   "cell_type": "code",
   "execution_count": 126,
   "id": "b57dc2c0-6584-4b1f-b9d8-effd6b24b2df",
   "metadata": {},
   "outputs": [],
   "source": [
    "today = 'Wednesday'"
   ]
  },
  {
   "cell_type": "code",
   "execution_count": 127,
   "id": "06cdb6b6-212e-45f7-9a58-a99fadfa3dd7",
   "metadata": {},
   "outputs": [
    {
     "name": "stdout",
     "output_type": "stream",
     "text": [
      "Today is the day of odin, the supreme deity.\n"
     ]
    }
   ],
   "source": [
    "if today == 'sunday':\n",
    "    print(\"Today is the day of the sun.\")\n",
    "elif today == 'monday':\n",
    "    print(\"Today is the day of the moon.\")\n",
    "elif today == 'tuesday':\n",
    "    print(\"Today is the day of tyr, the god of war.\")\n",
    "elif today == 'Wednesday':\n",
    "    print(\"Today is the day of odin, the supreme deity.\")\n",
    "elif today == 'Thursday':\n",
    "    print(\"Today is the day of thor, the god of thunder.\")\n",
    "elif today == 'Friday':\n",
    "    print(\"Today is the day of frigga, the goddess of beauty.\")\n",
    "elif today == 'Saturday':\n",
    "    print(\"Today is the day of saturn, the god of fun and feasting.\")"
   ]
  },
  {
   "cell_type": "code",
   "execution_count": 128,
   "id": "89a42465-386f-4a14-9a7b-716bb70bff58",
   "metadata": {},
   "outputs": [],
   "source": [
    "a_number = 15"
   ]
  },
  {
   "cell_type": "code",
   "execution_count": 129,
   "id": "44566019-c134-4b1d-9ff5-6d9efe290408",
   "metadata": {},
   "outputs": [
    {
     "name": "stdout",
     "output_type": "stream",
     "text": [
      "15 is divisible by 3\n"
     ]
    }
   ],
   "source": [
    "if a_number % 2 == 0:\n",
    "    print('{} is divisible by 2'.format(a_number))\n",
    "elif a_number % 3 == 0:\n",
    "    print('{} is divisible by 3'.format(a_number))\n",
    "elif a_number % 5 == 0:\n",
    "    print('{} is divisible by 5'.format(a_number))\n",
    "elif a_number % 7 == 0:\n",
    "    print('{} is divisible by 7'.format(a_number))"
   ]
  },
  {
   "cell_type": "code",
   "execution_count": 130,
   "id": "e26dda28-7050-4c35-9816-fe09634bec72",
   "metadata": {},
   "outputs": [
    {
     "name": "stdout",
     "output_type": "stream",
     "text": [
      "15 is divisible by 3\n",
      "15 is divisible by 5\n"
     ]
    }
   ],
   "source": [
    "if a_number % 2 == 0:\n",
    "    print('{} is divisible by 2'.format(a_number))\n",
    "if a_number % 3 == 0:\n",
    "    print('{} is divisible by 3'.format(a_number))\n",
    "if a_number % 5 == 0:\n",
    "    print('{} is divisible by 5'.format(a_number))\n",
    "if a_number % 7 == 0:\n",
    "    print('{} is divisible by 7'.format(a_number))"
   ]
  },
  {
   "cell_type": "markdown",
   "id": "4741d7b2-4958-4f19-af0f-b3e3fea3090f",
   "metadata": {},
   "source": [
    "## USING IF, ELIF AND ELSE TOGETHER"
   ]
  },
  {
   "cell_type": "code",
   "execution_count": 1,
   "id": "01e9ab60-3bcf-46b6-865c-3ae9f65982c0",
   "metadata": {},
   "outputs": [],
   "source": [
    "a_number = 49"
   ]
  },
  {
   "cell_type": "code",
   "execution_count": 2,
   "id": "fca76781-e7e9-4729-a205-4dabc365ed94",
   "metadata": {},
   "outputs": [
    {
     "name": "stdout",
     "output_type": "stream",
     "text": [
      "All checks failed!\n",
      "49 is not divisible by 2, 3, or 5\n"
     ]
    }
   ],
   "source": [
    "if a_number % 2 == 0:\n",
    "    print('{} is divisible by 2'.format(a_number))\n",
    "elif a_number % 3 == 0:\n",
    "    print('{} is divisible by 3'.format(a_number))\n",
    "elif a_number % 5 == 0:\n",
    "    print('{} is divisible by 5'.format(a_number))\n",
    "else:\n",
    "    print('All checks failed!')\n",
    "    print('{} is not divisible by 2, 3, or 5'.format(a_number))"
   ]
  },
  {
   "cell_type": "code",
   "execution_count": 3,
   "id": "77429181-32bd-46cf-b9c4-2607f48d2a7b",
   "metadata": {},
   "outputs": [],
   "source": [
    "a_number = 12"
   ]
  },
  {
   "cell_type": "code",
   "execution_count": 4,
   "id": "5714efd8-2fe4-474b-80e9-ce3869852629",
   "metadata": {},
   "outputs": [
    {
     "name": "stdout",
     "output_type": "stream",
     "text": [
      "The number 12 is not divisible by 5\n"
     ]
    }
   ],
   "source": [
    "if a_number % 3 == 0 and a_number % 5 == 0:\n",
    "    print(\"The number {} is divisible by 3 and 5 \".format(a_number))\n",
    "elif not a_number % 5 == 0:\n",
    "    print(\"The number {} is not divisible by 5\".format(a_number))"
   ]
  },
  {
   "cell_type": "markdown",
   "id": "94f58c2e-51b2-4bb7-8ec7-039092bd322e",
   "metadata": {},
   "source": [
    "### NON BOOLEAN CONDITIONS"
   ]
  },
  {
   "cell_type": "code",
   "execution_count": 5,
   "id": "6971d828-8a34-49f0-8165-d3bb35e7f786",
   "metadata": {},
   "outputs": [
    {
     "name": "stdout",
     "output_type": "stream",
     "text": [
      "The condition evaluated to False\n"
     ]
    }
   ],
   "source": [
    "if bool(''):\n",
    "    print('The condition evaluated to True')\n",
    "else:\n",
    "    print('The condition evaluated to False')"
   ]
  },
  {
   "cell_type": "code",
   "execution_count": 6,
   "id": "410a2033-274e-4c06-a10f-5e86760db59d",
   "metadata": {},
   "outputs": [
    {
     "name": "stdout",
     "output_type": "stream",
     "text": [
      "The condition evaluated to True\n"
     ]
    }
   ],
   "source": [
    "if 'Hello':\n",
    "    print('The condition evaluated to True')\n",
    "else:\n",
    "    print('The condition evaluated to False')"
   ]
  },
  {
   "cell_type": "code",
   "execution_count": 7,
   "id": "73ff41e2-993b-484a-abe4-876ad4c2b389",
   "metadata": {},
   "outputs": [
    {
     "name": "stdout",
     "output_type": "stream",
     "text": [
      "The condition evaluated to True\n"
     ]
    }
   ],
   "source": [
    "if{ 'a': 34 }:\n",
    "    print('The condition evaluated to True')\n",
    "else:\n",
    "    print('The condition evaluated to False')"
   ]
  },
  {
   "cell_type": "code",
   "execution_count": 8,
   "id": "d3d8e6b5-7e09-4edc-828b-b914043ac235",
   "metadata": {},
   "outputs": [
    {
     "name": "stdout",
     "output_type": "stream",
     "text": [
      "The condition evaluated to False\n"
     ]
    }
   ],
   "source": [
    "if None:\n",
    "    print('The condition evaluated to True')\n",
    "else:\n",
    "    print('The condition evaluated to False')"
   ]
  },
  {
   "cell_type": "markdown",
   "id": "5dda506e-bb51-4628-8ed8-fd95bb9c1cb1",
   "metadata": {},
   "source": [
    "### NESTED CONDITIONAL STATEMENTS"
   ]
  },
  {
   "cell_type": "code",
   "execution_count": 9,
   "id": "513165a5-1ad7-42df-b8ac-c00362231b03",
   "metadata": {},
   "outputs": [],
   "source": [
    "a_number = 15"
   ]
  },
  {
   "cell_type": "code",
   "execution_count": 10,
   "id": "eb24bc37-2b31-4e5e-a975-78d4a2ee6674",
   "metadata": {},
   "outputs": [
    {
     "name": "stdout",
     "output_type": "stream",
     "text": [
      "15 is odd\n",
      "15 is also divisible by 5\n"
     ]
    }
   ],
   "source": [
    "if a_number % 2 == 0:\n",
    "    print(\"{} is even\".format(a_number))\n",
    "    if a_number % 3 == 0:\n",
    "        print(\"{} is also divisible by 3\".format(a_number))\n",
    "    else:\n",
    "        print(\"{} is not divisible by 3\".format(a_number))\n",
    "else:\n",
    "    print(\"{} is odd\".format(a_number))\n",
    "    if a_number % 5 == 0:\n",
    "        print(\"{} is also divisible by 5\".format(a_number))\n",
    "    else:\n",
    "        print(\"{} is not divisible by 5\".format(a_number))"
   ]
  },
  {
   "cell_type": "markdown",
   "id": "976c2803-00c4-4d40-8ba1-a116c4ac1593",
   "metadata": {},
   "source": [
    "#### ITERATION WITH WHILE LOOPS"
   ]
  },
  {
   "cell_type": "code",
   "execution_count": null,
   "id": "89e271ee-cfc0-4cbe-90d2-91e0c8f116b4",
   "metadata": {},
   "outputs": [],
   "source": [
    "#while condition:\n",
    "       #statement(s)"
   ]
  },
  {
   "cell_type": "code",
   "execution_count": 13,
   "id": "47e40343-c887-4e82-9a9c-1a6c44a52049",
   "metadata": {},
   "outputs": [
    {
     "name": "stdout",
     "output_type": "stream",
     "text": [
      "The factorial of 100 is: 1\n"
     ]
    }
   ],
   "source": [
    "result = 1\n",
    "i = 1\n",
    "\n",
    "while i <= 100:\n",
    "    result = result * 1\n",
    "    i = i+1\n",
    "\n",
    "print('The factorial of 100 is: {}'.format(result))"
   ]
  },
  {
   "cell_type": "code",
   "execution_count": 18,
   "id": "ec97a958-f6db-48b6-a22b-f82c4b509502",
   "metadata": {},
   "outputs": [
    {
     "name": "stdout",
     "output_type": "stream",
     "text": [
      "402387260077093773543702433923003985719374864210714632543799910429938512398629020592044208486969404800479988610197196058631666872994808558901323829669944590997424504087073759918823627727188732519779505950995276120874975462497043601418278094646496291056393887437886487337119181045825783647849977012476632889835955735432513185323958463075557409114262417474349347553428646576611667797396668820291207379143853719588249808126867838374559731746136085379534524221586593201928090878297308431392844403281231558611036976801357304216168747609675871348312025478589320767169132448426236131412508780208000261683151027341827977704784635868170164365024153691398281264810213092761244896359928705114964975419909342221566832572080821333186116811553615836546984046708975602900950537616475847728421889679646244945160765353408198901385442487984959953319101723355556602139450399736280750137837615307127761926849034352625200015888535147331611702103968175921510907788019393178114194545257223865541461062892187960223838971476088506276862967146674697562911234082439208160153780889893964518263243671616762179168909779911903754031274622289988005195444414282012187361745992642956581746628302955570299024324153181617210465832036786906117260158783520751516284225540265170483304226143974286933061690897968482590125458327168226458066526769958652682272807075781391858178889652208164348344825993266043367660176999612831860788386150279465955131156552036093988180612138558600301435694527224206344631797460594682573103790084024432438465657245014402821885252470935190620929023136493273497565513958720559654228749774011413346962715422845862377387538230483865688976461927383814900140767310446640259899490222221765904339901886018566526485061799702356193897017860040811889729918311021171229845901641921068884387121855646124960798722908519296819372388642614839657382291123125024186649353143970137428531926649875337218940694281434118520158014123344828015051399694290153483077644569099073152433278288269864602789864321139083506217095002597389863554277196742822248757586765752344220207573630569498825087968928162753848863396909959826280956121450994871701244516461260379029309120889086942028510640182154399457156805941872748998094254742173582401063677404595741785160829230135358081840096996372524230560855903700624271243416909004153690105933983835777939410970027753472000000000000000000000000000000000000000000000000000000000000000000000000000000000000000000000000000000000000000000000000000000000000000000000000000000000000000000000000000000000000000000000000000000000000000000000000000000000000000000000000000000000\n",
      "CPU times: total: 0 ns\n",
      "Wall time: 0 ns\n"
     ]
    }
   ],
   "source": [
    "%%time\n",
    "\n",
    "result = 1\n",
    "i = 1\n",
    "\n",
    "while i <= 1000:\n",
    "    result *= i #same as result = result * 1\n",
    "    i += 1 #same as i = i+1\n",
    "\n",
    "print(result)"
   ]
  },
  {
   "cell_type": "code",
   "execution_count": 19,
   "id": "385b8856-b8b6-4afb-ae13-1894218715e8",
   "metadata": {},
   "outputs": [
    {
     "name": "stdout",
     "output_type": "stream",
     "text": [
      "*\n",
      "**\n",
      "***\n",
      "****\n",
      "*****\n",
      "******\n",
      "*******\n",
      "********\n",
      "*********\n",
      "**********\n",
      "***********\n",
      "**********\n",
      "*********\n",
      "********\n",
      "*******\n",
      "******\n",
      "*****\n",
      "****\n",
      "***\n",
      "**\n",
      "*\n"
     ]
    }
   ],
   "source": [
    "line = '*'\n",
    "max_length = 10\n",
    "\n",
    "while len(line) <= max_length:\n",
    "    print(line)\n",
    "    line += \"*\"\n",
    "while len(line) > 0:\n",
    "    print(line)\n",
    "    line = line[:-1]"
   ]
  },
  {
   "cell_type": "markdown",
   "id": "37d0d876-b0a6-4fac-9991-1c41b2189ed4",
   "metadata": {},
   "source": [
    "### BREAK AND CONTINUE STATEMENTS"
   ]
  },
  {
   "cell_type": "code",
   "execution_count": 20,
   "id": "742583b8-56aa-4966-a1b4-9c2046efc83a",
   "metadata": {},
   "outputs": [
    {
     "name": "stdout",
     "output_type": "stream",
     "text": [
      "magic number 42 reached: stopping execution..\n",
      "i: 42\n",
      "result: 1405006117752879898543142606244511569936384000000000\n"
     ]
    }
   ],
   "source": [
    "i = 1\n",
    "result = 1\n",
    "\n",
    "while i <= 100:\n",
    "    result *= i #same as result = result * i\n",
    "    if i == 42:\n",
    "        print('magic number 42 reached: stopping execution..')\n",
    "        break\n",
    "    i += 1\n",
    "\n",
    "print('i:', i)\n",
    "print('result:', result)"
   ]
  },
  {
   "cell_type": "code",
   "execution_count": 21,
   "id": "3bb54c30-d257-4b8d-b1e1-ae8f1d24cfb3",
   "metadata": {},
   "outputs": [
    {
     "name": "stdout",
     "output_type": "stream",
     "text": [
      "skipping 2\n",
      "multioying with 3\n",
      "skipping 4\n",
      "multioying with 5\n",
      "skipping 6\n",
      "multioying with 7\n",
      "skipping 8\n",
      "multioying with 9\n",
      "skipping 10\n",
      "multioying with 11\n",
      "skipping 12\n",
      "multioying with 13\n",
      "skipping 14\n",
      "multioying with 15\n",
      "skipping 16\n",
      "multioying with 17\n",
      "skipping 18\n",
      "multioying with 19\n",
      "skipping 20\n",
      "i: 20\n",
      "result: 654729075\n"
     ]
    }
   ],
   "source": [
    "i = 1\n",
    "result = 1\n",
    "\n",
    "while i < 20:\n",
    "    i += 1\n",
    "    if i % 2 == 0:\n",
    "        print('skipping {}'.format(i))\n",
    "        continue\n",
    "    print('multioying with {}'.format(i))\n",
    "    result = result * i\n",
    "\n",
    "print('i:' , i)\n",
    "print('result:' , result)"
   ]
  },
  {
   "cell_type": "markdown",
   "id": "e6f4e9cd-d420-46cc-9732-f815e0d2f51f",
   "metadata": {},
   "source": [
    "### iteration with for loops"
   ]
  },
  {
   "cell_type": "code",
   "execution_count": null,
   "id": "2e3bf18b-f00f-47f6-b091-8209be036e25",
   "metadata": {},
   "outputs": [],
   "source": [
    "# for value in sequence:\n",
    "      #statements(s)"
   ]
  },
  {
   "cell_type": "code",
   "execution_count": 22,
   "id": "4c6f11e5-b484-4fca-8700-4cf5967f3bed",
   "metadata": {},
   "outputs": [
    {
     "name": "stdout",
     "output_type": "stream",
     "text": [
      "Monday\n",
      "Tuesday\n",
      "Wednesday\n",
      "Thursday\n",
      "Friday\n"
     ]
    }
   ],
   "source": [
    "days = ['Monday', 'Tuesday', 'Wednesday', 'Thursday', 'Friday']\n",
    "\n",
    "for day in days:\n",
    "    print(day)"
   ]
  },
  {
   "cell_type": "code",
   "execution_count": 23,
   "id": "e9742033-56ac-49c4-93b9-a6fa67f196ad",
   "metadata": {},
   "outputs": [
    {
     "name": "stdout",
     "output_type": "stream",
     "text": [
      "M\n",
      "o\n",
      "n\n",
      "d\n",
      "a\n",
      "y\n"
     ]
    }
   ],
   "source": [
    "# looping over a string\n",
    "for char in 'Monday':\n",
    "    print(char)"
   ]
  },
  {
   "cell_type": "code",
   "execution_count": 24,
   "id": "8018c3e8-4456-46bc-8b36-4c755273a783",
   "metadata": {},
   "outputs": [
    {
     "name": "stdout",
     "output_type": "stream",
     "text": [
      "Here's a fruit Apple\n",
      "Here's a fruit Banana\n",
      "Here's a fruit Guava\n"
     ]
    }
   ],
   "source": [
    "# looping over a tuple\n",
    "for fruit in ['Apple', 'Banana', 'Guava']:\n",
    "    print(\"Here's a fruit\", fruit)"
   ]
  },
  {
   "cell_type": "code",
   "execution_count": 25,
   "id": "6ed6d024-af5f-48e7-a709-7124d1cf778d",
   "metadata": {},
   "outputs": [
    {
     "name": "stdout",
     "output_type": "stream",
     "text": [
      "key: name , values: John doe\n",
      "key: sex , values: male\n",
      "key: age , values: 32\n",
      "key: married , values: True\n"
     ]
    }
   ],
   "source": [
    "#looping over  a dictionary\n",
    "person = {\n",
    "      'name' : 'John doe',\n",
    "      'sex' : 'male',\n",
    "    'age' : 32,\n",
    "    'married' : True\n",
    "}\n",
    "\n",
    "for key in person:\n",
    "    print(\"key:\", key, \",\", \"values:\", person[key])"
   ]
  },
  {
   "cell_type": "code",
   "execution_count": 26,
   "id": "bca2a853-dde8-402a-812b-cc74f8654e09",
   "metadata": {},
   "outputs": [
    {
     "name": "stdout",
     "output_type": "stream",
     "text": [
      "John doe\n",
      "male\n",
      "32\n",
      "True\n"
     ]
    }
   ],
   "source": [
    "for value in person.values():\n",
    "    print(value)"
   ]
  },
  {
   "cell_type": "code",
   "execution_count": 27,
   "id": "2e3ebc65-0b87-41b3-b8df-299eaa3812a0",
   "metadata": {},
   "outputs": [
    {
     "name": "stdout",
     "output_type": "stream",
     "text": [
      "('name', 'John doe')\n",
      "('sex', 'male')\n",
      "('age', 32)\n",
      "('married', True)\n"
     ]
    }
   ],
   "source": [
    "for key_value_pair in person.items():\n",
    "    print(key_value_pair)"
   ]
  },
  {
   "cell_type": "code",
   "execution_count": 28,
   "id": "9ea3d0fe-c129-4f10-bf34-7e25f3fd4b72",
   "metadata": {},
   "outputs": [
    {
     "name": "stdout",
     "output_type": "stream",
     "text": [
      "key: name , value: John doe\n",
      "key: sex , value: male\n",
      "key: age , value: 32\n",
      "key: married , value: True\n"
     ]
    }
   ],
   "source": [
    "for key, value in person.items():\n",
    "    print(\"key:\", key, \",\", \"value:\", value)"
   ]
  },
  {
   "cell_type": "markdown",
   "id": "8d95255e-9a97-4ca2-8240-ac323b0644d2",
   "metadata": {},
   "source": [
    "#### ITERATING USING RANGE AND ENUMERATE"
   ]
  },
  {
   "cell_type": "code",
   "execution_count": 30,
   "id": "ae197f95-0342-431a-92ae-cee61c177c2d",
   "metadata": {},
   "outputs": [
    {
     "name": "stdout",
     "output_type": "stream",
     "text": [
      "0\n",
      "1\n",
      "2\n",
      "3\n",
      "4\n",
      "5\n",
      "6\n"
     ]
    }
   ],
   "source": [
    "for i in range(7):\n",
    "    print(i)"
   ]
  },
  {
   "cell_type": "code",
   "execution_count": 31,
   "id": "731f67d1-5be7-4d99-893e-83833b78d826",
   "metadata": {},
   "outputs": [
    {
     "name": "stdout",
     "output_type": "stream",
     "text": [
      "3\n",
      "4\n",
      "5\n",
      "6\n",
      "7\n",
      "8\n",
      "9\n"
     ]
    }
   ],
   "source": [
    "for i in range(3, 10):\n",
    "    print(i)"
   ]
  },
  {
   "cell_type": "code",
   "execution_count": 32,
   "id": "9e45d7d4-f05b-42e5-a5e9-492fe89901fb",
   "metadata": {},
   "outputs": [
    {
     "name": "stdout",
     "output_type": "stream",
     "text": [
      "3\n",
      "7\n",
      "11\n"
     ]
    }
   ],
   "source": [
    "for i in range(3, 14, 4):\n",
    "    print(i)"
   ]
  },
  {
   "cell_type": "code",
   "execution_count": 34,
   "id": "3fe76be5-ab5f-4b31-b09e-67130f6cbd22",
   "metadata": {},
   "outputs": [
    {
     "name": "stdout",
     "output_type": "stream",
     "text": [
      "The value at position 0 is Monday.\n",
      "The value at position 1 is Tuesday.\n",
      "The value at position 2 is Wednesday.\n",
      "The value at position 3 is Thursday.\n",
      "The value at position 4 is Friday.\n"
     ]
    }
   ],
   "source": [
    "a_list = ['Monday', 'Tuesday', 'Wednesday', 'Thursday', 'Friday']\n",
    "\n",
    "for i in range(len(a_list)):\n",
    "    print('The value at position {} is {}.'.format(i, a_list[i]))"
   ]
  },
  {
   "cell_type": "code",
   "execution_count": 35,
   "id": "a807481c-ff1f-47f5-99ad-2e4b4cb1faaf",
   "metadata": {},
   "outputs": [
    {
     "name": "stdout",
     "output_type": "stream",
     "text": [
      "The value at position 0 is Monday.\n",
      "The value at position 1 is Tuesday.\n",
      "The value at position 2 is Wednesday.\n",
      "The value at position 3 is Thursday.\n",
      "The value at position 4 is Friday.\n"
     ]
    }
   ],
   "source": [
    "for i, val in enumerate(a_list):\n",
    "    print('The value at position {} is {}.'.format(i, val))"
   ]
  },
  {
   "cell_type": "markdown",
   "id": "59152be6-9a61-4b3c-875d-a607d6cd580a",
   "metadata": {},
   "source": [
    "### break, continue and pass statements"
   ]
  },
  {
   "cell_type": "code",
   "execution_count": 38,
   "id": "6a604597-6129-4675-ab07-e2eaa51141a4",
   "metadata": {},
   "outputs": [],
   "source": [
    "weekdays = ['Monday', 'Tuesday', 'wednesday', 'Thursday', 'Friday']"
   ]
  },
  {
   "cell_type": "code",
   "execution_count": 39,
   "id": "82e0d2de-8d4f-4092-a781-8faae56c396b",
   "metadata": {},
   "outputs": [
    {
     "name": "stdout",
     "output_type": "stream",
     "text": [
      "Today is Monday\n",
      "Today is Tuesday\n",
      "Today is wednesday\n",
      "I don't work beyond wednesday!\n"
     ]
    }
   ],
   "source": [
    "for day in weekdays:\n",
    "    print('Today is {}'.format(day))\n",
    "    if (day == 'wednesday'):\n",
    "        print(\"I don't work beyond wednesday!\")\n",
    "        break"
   ]
  },
  {
   "cell_type": "code",
   "execution_count": 40,
   "id": "b4161127-a172-409f-8f2a-2553e5306b24",
   "metadata": {},
   "outputs": [
    {
     "name": "stdout",
     "output_type": "stream",
     "text": [
      "Today is Monday\n",
      "Today is Tuesday\n",
      "i don't work on wednesday!\n",
      "Today is Thursday\n",
      "Today is Friday\n"
     ]
    }
   ],
   "source": [
    "for day in weekdays:\n",
    "    if (day == 'wednesday'):\n",
    "        print(\"i don't work on wednesday!\")\n",
    "        continue\n",
    "    print('Today is {}'.format(day))"
   ]
  },
  {
   "cell_type": "markdown",
   "id": "2642aa38-3493-4232-bd8c-8723eb197206",
   "metadata": {},
   "source": [
    "### NESTED FOR AND WHILE LOOPS"
   ]
  },
  {
   "cell_type": "code",
   "execution_count": 41,
   "id": "70bffc44-3b03-4696-a047-93c424c4acc9",
   "metadata": {},
   "outputs": [
    {
     "name": "stdout",
     "output_type": "stream",
     "text": [
      "name : John\n",
      "sex : male\n",
      " \n",
      "name : Jane\n",
      "sex : female\n",
      " \n"
     ]
    }
   ],
   "source": [
    "persons = [{'name': 'John', 'sex': 'male'},{'name': 'Jane', 'sex': 'female'}]\n",
    "\n",
    "for person in persons:\n",
    "    for key in person:\n",
    "        print(key, \":\", person[key])\n",
    "    print(\" \")"
   ]
  },
  {
   "cell_type": "code",
   "execution_count": 42,
   "id": "3a339eee-3e8e-4b60-b5be-23c7be28b4fe",
   "metadata": {},
   "outputs": [
    {
     "name": "stdout",
     "output_type": "stream",
     "text": [
      "Monday apple\n",
      "Monday banana\n",
      "Monday guava\n",
      "Tuesday apple\n",
      "Tuesday banana\n",
      "Tuesday guava\n",
      "Wednesday apple\n",
      "Wednesday banana\n",
      "Wednesday guava\n"
     ]
    }
   ],
   "source": [
    "days = ['Monday', 'Tuesday', 'Wednesday']\n",
    "fruits = ['apple', 'banana', 'guava']\n",
    "\n",
    "for day in days:\n",
    "    for fruit in fruits:\n",
    "        print(day, fruit)"
   ]
  },
  {
   "cell_type": "markdown",
   "id": "9d3f2ece-4510-42ed-93ed-d8daf297bf05",
   "metadata": {},
   "source": [
    "## functions"
   ]
  },
  {
   "cell_type": "code",
   "execution_count": 43,
   "id": "6b9446a9-d815-4520-9f15-879955239dca",
   "metadata": {},
   "outputs": [
    {
     "name": "stdout",
     "output_type": "stream",
     "text": [
      "Today is Saturday\n"
     ]
    }
   ],
   "source": [
    "today = \"Saturday\"\n",
    "print(\"Today is\", today)"
   ]
  },
  {
   "cell_type": "code",
   "execution_count": 44,
   "id": "5fc434c9-39c0-4ca7-ba2a-972bb575a179",
   "metadata": {},
   "outputs": [],
   "source": [
    "def say_hello():\n",
    "    print('Hello there!')\n",
    "    print('How are you?')"
   ]
  },
  {
   "cell_type": "code",
   "execution_count": 46,
   "id": "34e13dc7-1b03-4d78-8fbd-513abc9f965f",
   "metadata": {},
   "outputs": [
    {
     "name": "stdout",
     "output_type": "stream",
     "text": [
      "Hello there!\n",
      "How are you?\n"
     ]
    }
   ],
   "source": [
    "say_hello()"
   ]
  },
  {
   "cell_type": "markdown",
   "id": "e2e1678d-6f3c-4519-8677-851bf5d7a1ac",
   "metadata": {},
   "source": [
    "#### function arguments"
   ]
  },
  {
   "cell_type": "code",
   "execution_count": 47,
   "id": "bbc8f4da-e9e1-4761-865f-226b01a91e8e",
   "metadata": {},
   "outputs": [],
   "source": [
    "def filter_even(number_list):\n",
    "    result_list = []\n",
    "    for number in number_list:\n",
    "        if number % 2 == 0:\n",
    "            result_list.append(number)\n",
    "    return result_list"
   ]
  },
  {
   "cell_type": "code",
   "execution_count": 48,
   "id": "6b9aa444-2156-49d5-a144-3b2925d09581",
   "metadata": {},
   "outputs": [],
   "source": [
    "even_list = filter_even([1, 2, 3, 4, 5, 6, 7])"
   ]
  },
  {
   "cell_type": "code",
   "execution_count": 49,
   "id": "9d874c73-486b-42ff-b82b-0d6f0301cf23",
   "metadata": {},
   "outputs": [
    {
     "data": {
      "text/plain": [
       "[2, 4, 6]"
      ]
     },
     "execution_count": 49,
     "metadata": {},
     "output_type": "execute_result"
    }
   ],
   "source": [
    "even_list"
   ]
  },
  {
   "cell_type": "code",
   "execution_count": 50,
   "id": "df29a67b-f434-47fd-b066-d75b0ec6019d",
   "metadata": {},
   "outputs": [
    {
     "data": {
      "text/plain": [
       "[]"
      ]
     },
     "execution_count": 50,
     "metadata": {},
     "output_type": "execute_result"
    }
   ],
   "source": [
    "filter_even([1, 3, 5, 7, 9])"
   ]
  },
  {
   "cell_type": "markdown",
   "id": "540b101d-c378-4068-b60e-68492ef1ad86",
   "metadata": {},
   "source": [
    "#### writing great fucntions in python"
   ]
  },
  {
   "cell_type": "code",
   "execution_count": 51,
   "id": "ce490aaa-bf36-4aae-afce-71dc9f0503da",
   "metadata": {},
   "outputs": [],
   "source": [
    "def loan_emi(amount):\n",
    "    emi = amount / 12\n",
    "    print('The EMI is ${}'.format(emi))"
   ]
  },
  {
   "cell_type": "code",
   "execution_count": 53,
   "id": "066c3855-ef61-441f-966f-ca4698869a4f",
   "metadata": {},
   "outputs": [
    {
     "name": "stdout",
     "output_type": "stream",
     "text": [
      "The EMI is $105000.0\n"
     ]
    }
   ],
   "source": [
    "loan_emi(1.26e6)"
   ]
  },
  {
   "cell_type": "code",
   "execution_count": 2,
   "id": "6a068067-089a-4eaf-8917-3489122ad27f",
   "metadata": {},
   "outputs": [],
   "source": [
    "def loan_emi(amount, duration):\n",
    "    emi = amount / duration\n",
    "    print('The EMI is ${}'.format(emi))"
   ]
  },
  {
   "cell_type": "code",
   "execution_count": 55,
   "id": "59786bce-1ba9-41ad-8921-e7f688587758",
   "metadata": {},
   "outputs": [
    {
     "name": "stdout",
     "output_type": "stream",
     "text": [
      "The EMI is $10500.0\n"
     ]
    }
   ],
   "source": [
    "loan_emi(1.26e6, 10*12)"
   ]
  },
  {
   "cell_type": "code",
   "execution_count": 4,
   "id": "3ba20677-917e-488c-bdf9-1eabcca24945",
   "metadata": {},
   "outputs": [
    {
     "name": "stdout",
     "output_type": "stream",
     "text": [
      "The EMI is $13125.0\n"
     ]
    }
   ],
   "source": [
    "loan_emi(1.26e6, 8*12)"
   ]
  },
  {
   "cell_type": "code",
   "execution_count": 5,
   "id": "71b37b4a-12e2-43df-a174-13b63aa28bf8",
   "metadata": {},
   "outputs": [],
   "source": [
    "def loam_emi(amount, duration):\n",
    "    emi = amount / duration\n",
    "    return emi"
   ]
  },
  {
   "cell_type": "code",
   "execution_count": 7,
   "id": "cd335856-b437-40a4-9fea-2d595b7b16a3",
   "metadata": {},
   "outputs": [
    {
     "name": "stdout",
     "output_type": "stream",
     "text": [
      "The EMI is $13125.0\n"
     ]
    }
   ],
   "source": [
    "emi1 = loan_emi(1.26e6, 8*12)"
   ]
  },
  {
   "cell_type": "code",
   "execution_count": 9,
   "id": "7adb1d43-367e-4483-8ea7-f6e12bae18ed",
   "metadata": {},
   "outputs": [
    {
     "name": "stdout",
     "output_type": "stream",
     "text": [
      "The EMI is $10500.0\n"
     ]
    }
   ],
   "source": [
    "emi2 = loan_emi(1.26e6, 10*12)"
   ]
  },
  {
   "cell_type": "code",
   "execution_count": 14,
   "id": "1386f585-df10-46c2-9ec8-c45e64ece97f",
   "metadata": {},
   "outputs": [],
   "source": [
    "def loan_emi(amount, duration, down_payment=0):\n",
    "    loan_amount = amount - down_payment\n",
    "    emi = loan_amount / duration\n",
    "    return emi"
   ]
  },
  {
   "cell_type": "code",
   "execution_count": 15,
   "id": "b72e0563-d35e-4610-ab37-4bf82d0b7c26",
   "metadata": {},
   "outputs": [],
   "source": [
    "emi1 = loan_emi(1.26e6, 8*12, 3e5)"
   ]
  },
  {
   "cell_type": "code",
   "execution_count": 16,
   "id": "76aa9635-1b68-44a0-b708-4d7edc1bdff1",
   "metadata": {},
   "outputs": [
    {
     "data": {
      "text/plain": [
       "10000.0"
      ]
     },
     "execution_count": 16,
     "metadata": {},
     "output_type": "execute_result"
    }
   ],
   "source": [
    "emi1"
   ]
  },
  {
   "cell_type": "code",
   "execution_count": 17,
   "id": "05fe75a1-9c2f-44cb-a721-1abcf580e85a",
   "metadata": {},
   "outputs": [],
   "source": [
    "emi2 = loan_emi(1.26e6, 10*12)"
   ]
  },
  {
   "cell_type": "code",
   "execution_count": 18,
   "id": "fa3378ee-3a13-4189-92b2-f5d835478ebb",
   "metadata": {},
   "outputs": [
    {
     "data": {
      "text/plain": [
       "10500.0"
      ]
     },
     "execution_count": 18,
     "metadata": {},
     "output_type": "execute_result"
    }
   ],
   "source": [
    "emi2"
   ]
  },
  {
   "cell_type": "code",
   "execution_count": 19,
   "id": "dd06483d-65b0-45be-bd33-1aafbba2cb4b",
   "metadata": {},
   "outputs": [
    {
     "data": {
      "text/plain": [
       "-500.0"
      ]
     },
     "execution_count": 19,
     "metadata": {},
     "output_type": "execute_result"
    }
   ],
   "source": [
    "emi1-emi2"
   ]
  },
  {
   "cell_type": "code",
   "execution_count": 20,
   "id": "53209cec-ca57-4211-80d9-271c44f89e96",
   "metadata": {},
   "outputs": [],
   "source": [
    "def loan_emi(amount, duration, rate, down_payment=0):\n",
    "    loan_amount = amount - down_payment\n",
    "    emi = loan_amount * rate * ((1+rate)**duration)/(((1+rate)**duration)-1)\n",
    "    return emi"
   ]
  },
  {
   "cell_type": "code",
   "execution_count": 21,
   "id": "1b562dfc-02df-4b02-8c5d-e5e2010bfa38",
   "metadata": {},
   "outputs": [
    {
     "data": {
      "text/plain": [
       "14567.19753389219"
      ]
     },
     "execution_count": 21,
     "metadata": {},
     "output_type": "execute_result"
    }
   ],
   "source": [
    "loan_emi(1260000, 8*12, 0.1/12, 3e5)"
   ]
  },
  {
   "cell_type": "code",
   "execution_count": 22,
   "id": "fd55127f-7054-4238-98e4-b2dd326f376a",
   "metadata": {},
   "outputs": [
    {
     "data": {
      "text/plain": [
       "15287.276888775077"
      ]
     },
     "execution_count": 22,
     "metadata": {},
     "output_type": "execute_result"
    }
   ],
   "source": [
    "loan_emi(1260000, 10*12, 0.08/12)"
   ]
  },
  {
   "cell_type": "markdown",
   "id": "15c3ebec-d79a-44d2-82ed-c246c9e32d74",
   "metadata": {},
   "source": [
    "## NAMED ARGUMENTS"
   ]
  },
  {
   "cell_type": "code",
   "execution_count": 23,
   "id": "5ce022f2-45f8-49e1-bc71-1d0031ccaf06",
   "metadata": {},
   "outputs": [],
   "source": [
    "emi1 = loan_emi(\n",
    "    amount=1.26e6,\n",
    "    duration=8*12,\n",
    "    rate=0.1/12,\n",
    "    down_payment=3e5\n",
    ")"
   ]
  },
  {
   "cell_type": "code",
   "execution_count": 24,
   "id": "403271ec-14b8-4087-a8f2-1cab7c9a6097",
   "metadata": {},
   "outputs": [
    {
     "data": {
      "text/plain": [
       "14567.19753389219"
      ]
     },
     "execution_count": 24,
     "metadata": {},
     "output_type": "execute_result"
    }
   ],
   "source": [
    "emi1"
   ]
  },
  {
   "cell_type": "code",
   "execution_count": 25,
   "id": "80d310f1-0ac7-4875-8b6e-a1688141fd98",
   "metadata": {},
   "outputs": [],
   "source": [
    "emi2 = loan_emi(amount=1260000, duration=10*12, rate=0.08/12)"
   ]
  },
  {
   "cell_type": "code",
   "execution_count": 26,
   "id": "d38ed9e5-5913-4e2e-82ea-5001bf2d5527",
   "metadata": {},
   "outputs": [
    {
     "data": {
      "text/plain": [
       "15287.276888775077"
      ]
     },
     "execution_count": 26,
     "metadata": {},
     "output_type": "execute_result"
    }
   ],
   "source": [
    "emi2"
   ]
  },
  {
   "cell_type": "code",
   "execution_count": 27,
   "id": "fb7736d1-9413-48d7-abee-4ba9c3aa0add",
   "metadata": {},
   "outputs": [],
   "source": [
    "import math"
   ]
  },
  {
   "cell_type": "code",
   "execution_count": 28,
   "id": "dc35a9d6-a0b6-47ac-a201-651e0ef8e21c",
   "metadata": {},
   "outputs": [
    {
     "data": {
      "text/plain": [
       "2"
      ]
     },
     "execution_count": 28,
     "metadata": {},
     "output_type": "execute_result"
    }
   ],
   "source": [
    "math.ceil(1.2)"
   ]
  },
  {
   "cell_type": "code",
   "execution_count": 29,
   "id": "49c4e074-578a-423a-8fc3-825c1fe0f028",
   "metadata": {},
   "outputs": [],
   "source": [
    "def loan_emi(amount, duration, rate, down_payment=0):\n",
    "    loan_amount = amount - down_payment\n",
    "    emi = loan_amount * rate * ((1+rate)**duration)/(((1+rate)**duration)-1)\n",
    "    emi = math.ceil(emi)\n",
    "    return emi"
   ]
  },
  {
   "cell_type": "code",
   "execution_count": 30,
   "id": "6c0d2b6c-0fbb-4133-a8bc-fb24260bd058",
   "metadata": {},
   "outputs": [],
   "source": [
    "emi1 = loan_emi(\n",
    "    amount=1260000,\n",
    "    duration=8*12,\n",
    "    rate=0.1/12,\n",
    "    down_payment=3e5\n",
    ")"
   ]
  },
  {
   "cell_type": "code",
   "execution_count": 31,
   "id": "29302254-a5b8-43bd-b7ab-a0e11d680204",
   "metadata": {},
   "outputs": [
    {
     "data": {
      "text/plain": [
       "14568"
      ]
     },
     "execution_count": 31,
     "metadata": {},
     "output_type": "execute_result"
    }
   ],
   "source": [
    "emi1"
   ]
  },
  {
   "cell_type": "code",
   "execution_count": 32,
   "id": "1cc209d4-f8de-473e-ba21-fe683fd965ac",
   "metadata": {},
   "outputs": [],
   "source": [
    "emi2 = loan_emi(amount=1260000, duration=10*12, rate=0.08/12)"
   ]
  },
  {
   "cell_type": "code",
   "execution_count": 33,
   "id": "9648fbc8-20b5-4005-989e-150e7f445040",
   "metadata": {},
   "outputs": [
    {
     "data": {
      "text/plain": [
       "15288"
      ]
     },
     "execution_count": 33,
     "metadata": {},
     "output_type": "execute_result"
    }
   ],
   "source": [
    "emi2"
   ]
  },
  {
   "cell_type": "code",
   "execution_count": 34,
   "id": "e90252e5-965c-4a09-b430-3a5e9a16a5bd",
   "metadata": {},
   "outputs": [
    {
     "name": "stdout",
     "output_type": "stream",
     "text": [
      "Option1 has the lower emi: $14568\n"
     ]
    }
   ],
   "source": [
    "if emi1 < emi2:\n",
    "    print(\"Option1 has the lower emi: ${}\".format(emi1))\n",
    "else:\n",
    "    print(\"Option2 has the lower emi: ${}\".format(emi2))"
   ]
  },
  {
   "cell_type": "code",
   "execution_count": 35,
   "id": "0b7e61d2-7d37-4ea4-96de-61ca6075cff5",
   "metadata": {},
   "outputs": [],
   "source": [
    "cost_of_house = 800000\n",
    "home_loan_duration = 6*12 #months\n",
    "home_loan_rate = 0.07/12 #monthly\n",
    "home_down_payment = .25 * 800000\n",
    "\n",
    "emi_house = loan_emi(amount=cost_of_house,\n",
    "                    duration=home_loan_duration,\n",
    "                    rate=home_loan_rate,\n",
    "                    down_payment=home_down_payment)"
   ]
  },
  {
   "cell_type": "code",
   "execution_count": 36,
   "id": "c40ec670-5a07-4747-a6a7-45b9e6f7646c",
   "metadata": {},
   "outputs": [
    {
     "data": {
      "text/plain": [
       "10230"
      ]
     },
     "execution_count": 36,
     "metadata": {},
     "output_type": "execute_result"
    }
   ],
   "source": [
    "emi_house"
   ]
  },
  {
   "cell_type": "code",
   "execution_count": 37,
   "id": "91ba4027-1f55-41f6-86c0-ae432f6c78b0",
   "metadata": {},
   "outputs": [],
   "source": [
    "cost_of_car = 60000\n",
    "car_loan_duration = 1*12 #months\n",
    "car_loan_rate = .12/12 #monthly\n",
    "\n",
    "emi_car = loan_emi(amount=cost_of_car,\n",
    "                   duration=car_loan_duration,\n",
    "                   rate=car_loan_rate\n",
    "             )\n"
   ]
  },
  {
   "cell_type": "code",
   "execution_count": 38,
   "id": "a4053591-08f5-48f8-bd82-4ea4e6673be5",
   "metadata": {},
   "outputs": [
    {
     "data": {
      "text/plain": [
       "5331"
      ]
     },
     "execution_count": 38,
     "metadata": {},
     "output_type": "execute_result"
    }
   ],
   "source": [
    "emi_car"
   ]
  },
  {
   "cell_type": "code",
   "execution_count": 39,
   "id": "30e8d82f-1452-467e-8225-4d8c52bb2928",
   "metadata": {},
   "outputs": [
    {
     "name": "stdout",
     "output_type": "stream",
     "text": [
      "shaun makes a total monthly payment of $15561 towards loan repayments.\n"
     ]
    }
   ],
   "source": [
    "print(\"shaun makes a total monthly payment of ${} towards loan repayments.\".format(emi_house+emi_car))"
   ]
  },
  {
   "cell_type": "markdown",
   "id": "0b932060-2e73-4455-97be-6b0007ef38b5",
   "metadata": {},
   "source": [
    "### TRY AND EXCEPT ERROR"
   ]
  },
  {
   "cell_type": "code",
   "execution_count": 40,
   "id": "d1a15288-20d3-4afb-8cc9-521b8ebaa912",
   "metadata": {},
   "outputs": [],
   "source": [
    "emi_with_interest = loan_emi(amount=100000, duration=10*12, rate=0.09/12)"
   ]
  },
  {
   "cell_type": "code",
   "execution_count": 41,
   "id": "030e22df-db09-4dae-8e7b-1cccb3d6f563",
   "metadata": {},
   "outputs": [
    {
     "data": {
      "text/plain": [
       "1267"
      ]
     },
     "execution_count": 41,
     "metadata": {},
     "output_type": "execute_result"
    }
   ],
   "source": [
    "emi_with_interest"
   ]
  },
  {
   "cell_type": "code",
   "execution_count": 42,
   "id": "b7f4f574-b862-4b17-8a78-4452a2df1488",
   "metadata": {},
   "outputs": [
    {
     "ename": "ZeroDivisionError",
     "evalue": "float division by zero",
     "output_type": "error",
     "traceback": [
      "\u001b[1;31m---------------------------------------------------------------------------\u001b[0m",
      "\u001b[1;31mZeroDivisionError\u001b[0m                         Traceback (most recent call last)",
      "Cell \u001b[1;32mIn[42], line 1\u001b[0m\n\u001b[1;32m----> 1\u001b[0m emi_without_interest \u001b[38;5;241m=\u001b[39m loan_emi(amount\u001b[38;5;241m=\u001b[39m\u001b[38;5;241m100000\u001b[39m, duration\u001b[38;5;241m=\u001b[39m\u001b[38;5;241m10\u001b[39m\u001b[38;5;241m*\u001b[39m\u001b[38;5;241m12\u001b[39m, rate\u001b[38;5;241m=\u001b[39m\u001b[38;5;241m0.\u001b[39m\u001b[38;5;241m/\u001b[39m\u001b[38;5;241m12\u001b[39m)\n",
      "Cell \u001b[1;32mIn[29], line 3\u001b[0m, in \u001b[0;36mloan_emi\u001b[1;34m(amount, duration, rate, down_payment)\u001b[0m\n\u001b[0;32m      1\u001b[0m \u001b[38;5;28;01mdef\u001b[39;00m \u001b[38;5;21mloan_emi\u001b[39m(amount, duration, rate, down_payment\u001b[38;5;241m=\u001b[39m\u001b[38;5;241m0\u001b[39m):\n\u001b[0;32m      2\u001b[0m     loan_amount \u001b[38;5;241m=\u001b[39m amount \u001b[38;5;241m-\u001b[39m down_payment\n\u001b[1;32m----> 3\u001b[0m     emi \u001b[38;5;241m=\u001b[39m loan_amount \u001b[38;5;241m*\u001b[39m rate \u001b[38;5;241m*\u001b[39m ((\u001b[38;5;241m1\u001b[39m\u001b[38;5;241m+\u001b[39mrate)\u001b[38;5;241m*\u001b[39m\u001b[38;5;241m*\u001b[39mduration)\u001b[38;5;241m/\u001b[39m(((\u001b[38;5;241m1\u001b[39m\u001b[38;5;241m+\u001b[39mrate)\u001b[38;5;241m*\u001b[39m\u001b[38;5;241m*\u001b[39mduration)\u001b[38;5;241m-\u001b[39m\u001b[38;5;241m1\u001b[39m)\n\u001b[0;32m      4\u001b[0m     emi \u001b[38;5;241m=\u001b[39m math\u001b[38;5;241m.\u001b[39mceil(emi)\n\u001b[0;32m      5\u001b[0m     \u001b[38;5;28;01mreturn\u001b[39;00m emi\n",
      "\u001b[1;31mZeroDivisionError\u001b[0m: float division by zero"
     ]
    }
   ],
   "source": [
    "emi_without_interest = loan_emi(amount=100000, duration=10*12, rate=0./12)"
   ]
  },
  {
   "cell_type": "code",
   "execution_count": null,
   "id": "fb2930ed-5935-46ff-b082-2eea58bb113d",
   "metadata": {},
   "outputs": [],
   "source": [
    "##WE USE A TRY STATEMENT TO HANDLE ZERODIVISIONERRORS IE"
   ]
  },
  {
   "cell_type": "code",
   "execution_count": 43,
   "id": "f5dc9fd0-b4a7-4145-b03a-8daca4fdadeb",
   "metadata": {},
   "outputs": [
    {
     "name": "stdout",
     "output_type": "stream",
     "text": [
      "Now computing the result..\n",
      "Failed to compute result because you were trying to divide by zero\n",
      "None\n"
     ]
    }
   ],
   "source": [
    "try:\n",
    "    print(\"Now computing the result..\")\n",
    "    result = 5 / 0\n",
    "    print(\"Computation was completed successfully\")\n",
    "except ZeroDivisionError:\n",
    "    print(\"Failed to compute result because you were trying to divide by zero\")\n",
    "    result = None\n",
    "\n",
    "print(result)"
   ]
  },
  {
   "cell_type": "code",
   "execution_count": 44,
   "id": "81cef3ce-5092-4825-a48f-62ecbce77643",
   "metadata": {},
   "outputs": [],
   "source": [
    "def loan_emi(amount, duration, rate, down_payment=0):\n",
    "    loan_amount = amount - down_payment\n",
    "    try:\n",
    "        emi = loan_amount * rate * ((1+rate)**duration)/(((1+rate)**duration)-1)\n",
    "    except ZeroDivisionError:\n",
    "        emi = loan_amount / duration\n",
    "    emi = math.ceil(emi)\n",
    "    return emi"
   ]
  },
  {
   "cell_type": "code",
   "execution_count": 46,
   "id": "b471ef83-fae5-47f2-8024-324b113846c0",
   "metadata": {},
   "outputs": [],
   "source": [
    "emi_with_interest = loan_emi(amount=100000, duration=10*12, rate=0.09/12)"
   ]
  },
  {
   "cell_type": "code",
   "execution_count": 47,
   "id": "20a22e5a-3b06-46cc-b3e0-032dadb171e3",
   "metadata": {},
   "outputs": [
    {
     "data": {
      "text/plain": [
       "1267"
      ]
     },
     "execution_count": 47,
     "metadata": {},
     "output_type": "execute_result"
    }
   ],
   "source": [
    "emi_with_interest"
   ]
  },
  {
   "cell_type": "code",
   "execution_count": 48,
   "id": "356772b0-832c-4c65-a129-aca5e4a65950",
   "metadata": {},
   "outputs": [],
   "source": [
    "emi_without_interest = loan_emi(amount=100000, duration=10*12, rate=0)"
   ]
  },
  {
   "cell_type": "code",
   "execution_count": 49,
   "id": "45a74010-ea0d-4a30-967a-6cc74fbd33f0",
   "metadata": {},
   "outputs": [
    {
     "data": {
      "text/plain": [
       "834"
      ]
     },
     "execution_count": 49,
     "metadata": {},
     "output_type": "execute_result"
    }
   ],
   "source": [
    "emi_without_interest"
   ]
  },
  {
   "cell_type": "code",
   "execution_count": 50,
   "id": "906543cb-aaab-4b48-8f61-d4ae5f62a834",
   "metadata": {},
   "outputs": [],
   "source": [
    "total_interest = (emi_with_interest - emi_without_interest) * 10*12"
   ]
  },
  {
   "cell_type": "code",
   "execution_count": 51,
   "id": "4426b420-9b1e-4a30-a432-8cfc31e0dfa6",
   "metadata": {},
   "outputs": [
    {
     "data": {
      "text/plain": [
       "51960"
      ]
     },
     "execution_count": 51,
     "metadata": {},
     "output_type": "execute_result"
    }
   ],
   "source": [
    "total_interest"
   ]
  },
  {
   "cell_type": "code",
   "execution_count": 52,
   "id": "bac76a1f-9bff-4738-b456-c0204b6079ad",
   "metadata": {},
   "outputs": [
    {
     "name": "stdout",
     "output_type": "stream",
     "text": [
      "The total interest paid is $51960.\n"
     ]
    }
   ],
   "source": [
    "print(\"The total interest paid is ${}.\".format(total_interest))"
   ]
  },
  {
   "cell_type": "markdown",
   "id": "0c97f0f3-5831-45ec-bffd-9ae03cf64bc2",
   "metadata": {},
   "source": [
    "#### DOCUMENTING FUNCTIONS USING DOCSTRINGS"
   ]
  },
  {
   "cell_type": "code",
   "execution_count": 54,
   "id": "8fa7a1bb-579c-4fcd-9e22-75646b13be59",
   "metadata": {},
   "outputs": [],
   "source": [
    "def loan_emi(amount, duration, rate, down_payment=0):\n",
    "    \"\"\"Calculates the equal monthly installment (EMI) for a loan.\n",
    "    Arguments:\n",
    "          amount - Total amount to be spent (loan + down payment)\n",
    "          duration - duration of loan (in months)\n",
    "          rate - rate of interest (monthly)\n",
    "          down_payment (optional) - optional initial payment (deducted from amount)\n",
    "    \"\"\"\n",
    "\n",
    "    loan_amount = amount - down_payment\n",
    "    try:\n",
    "        emi = loan_amount * rate * ((1+rate)**duration)/(((1+rate)**duration)-1)\n",
    "    except ZeroDivisonError:\n",
    "        emi = loan_amount / duration\n",
    "    emi = math.ceil(emi)\n",
    "    return emi"
   ]
  },
  {
   "cell_type": "code",
   "execution_count": 55,
   "id": "f16df8be-7afa-4bcb-981a-7e15dc47d22a",
   "metadata": {},
   "outputs": [
    {
     "name": "stdout",
     "output_type": "stream",
     "text": [
      "Help on function loan_emi in module __main__:\n",
      "\n",
      "loan_emi(amount, duration, rate, down_payment=0)\n",
      "    Calculates the equal monthly installment (EMI) for a loan.\n",
      "    Arguments:\n",
      "          amount - Total amount to be spent (loan + down payment)\n",
      "          duration - duration of loan (in months)\n",
      "          rate - rate of interest (monthly)\n",
      "          down_payment (optional) - optional initial payment (deducted from amount)\n",
      "\n"
     ]
    }
   ],
   "source": [
    "help(loan_emi)"
   ]
  },
  {
   "cell_type": "markdown",
   "id": "ac320727-7b45-4ad8-bff1-4a5db246a3e5",
   "metadata": {},
   "source": [
    "### ASSIGNMENT"
   ]
  },
  {
   "cell_type": "code",
   "execution_count": 1,
   "id": "9b9cb981-1097-463c-8725-2e64a5404bfd",
   "metadata": {},
   "outputs": [],
   "source": [
    "def cost_of_trip(return_flight, hotel_trip, weekly_car_rental):\n",
    "    cost_of_trip = return_flight + (hotel_trip * 7) + weekly_car_rental\n",
    "    return cost_of_trip"
   ]
  },
  {
   "cell_type": "code",
   "execution_count": 2,
   "id": "6c238c31-decc-4a18-8346-1e78bace63bb",
   "metadata": {},
   "outputs": [],
   "source": [
    "cost_of_trip_paris = cost_of_trip (return_flight=200,\n",
    "                                  hotel_trip=20,\n",
    "                                  weekly_car_rental=200)"
   ]
  },
  {
   "cell_type": "code",
   "execution_count": 3,
   "id": "96eccd43-cafd-4290-9914-755b0e56dc79",
   "metadata": {},
   "outputs": [
    {
     "data": {
      "text/plain": [
       "540"
      ]
     },
     "execution_count": 3,
     "metadata": {},
     "output_type": "execute_result"
    }
   ],
   "source": [
    "cost_of_trip_paris"
   ]
  },
  {
   "cell_type": "code",
   "execution_count": 5,
   "id": "373a95bc-6c82-4461-a652-7088e9846105",
   "metadata": {},
   "outputs": [],
   "source": [
    "cost_of_trip_london = cost_of_trip (return_flight=250,\n",
    "                                   hotel_trip=30,\n",
    "                                   weekly_car_rental=120)"
   ]
  },
  {
   "cell_type": "code",
   "execution_count": 7,
   "id": "81403e6a-f979-42e6-bfb2-24e4f423718e",
   "metadata": {},
   "outputs": [
    {
     "data": {
      "text/plain": [
       "580"
      ]
     },
     "execution_count": 7,
     "metadata": {},
     "output_type": "execute_result"
    }
   ],
   "source": [
    "cost_of_trip_london"
   ]
  },
  {
   "cell_type": "code",
   "execution_count": 8,
   "id": "64f0c601-cb0e-4ad6-8c1e-886034f04097",
   "metadata": {},
   "outputs": [],
   "source": [
    "cost_of_trip_dubai = cost_of_trip (return_flight=350,\n",
    "                                  hotel_trip=15,\n",
    "                                  weekly_car_rental=80)"
   ]
  },
  {
   "cell_type": "code",
   "execution_count": 9,
   "id": "162c062a-2b29-4043-96a2-896116bb2350",
   "metadata": {},
   "outputs": [
    {
     "data": {
      "text/plain": [
       "535"
      ]
     },
     "execution_count": 9,
     "metadata": {},
     "output_type": "execute_result"
    }
   ],
   "source": [
    "cost_of_trip_dubai"
   ]
  },
  {
   "cell_type": "code",
   "execution_count": 10,
   "id": "0c50f53d-3d06-4d42-a70e-3ebf95a6561f",
   "metadata": {},
   "outputs": [],
   "source": [
    "cost_of_trip_mumbai = cost_of_trip (return_flight=450,\n",
    "                                   hotel_trip=10,\n",
    "                                   weekly_car_rental=70)"
   ]
  },
  {
   "cell_type": "code",
   "execution_count": 11,
   "id": "11505aba-3c1c-4503-8d84-94b5ce2b0af9",
   "metadata": {},
   "outputs": [
    {
     "data": {
      "text/plain": [
       "590"
      ]
     },
     "execution_count": 11,
     "metadata": {},
     "output_type": "execute_result"
    }
   ],
   "source": [
    "cost_of_trip_mumbai"
   ]
  },
  {
   "cell_type": "code",
   "execution_count": 15,
   "id": "398769ee-7673-417a-9b86-76200af93896",
   "metadata": {},
   "outputs": [
    {
     "name": "stdout",
     "output_type": "stream",
     "text": [
      "i will visit dubai with $535.\n"
     ]
    }
   ],
   "source": [
    "print(\"i will visit dubai with ${}.\".format(cost_of_trip_dubai))"
   ]
  },
  {
   "cell_type": "code",
   "execution_count": null,
   "id": "d3e23748-c4f7-4888-a695-9590fb5e4406",
   "metadata": {},
   "outputs": [],
   "source": [
    "## 4days trip"
   ]
  },
  {
   "cell_type": "code",
   "execution_count": 16,
   "id": "4cbbfab7-4c97-4ee9-a476-ee36ddc85e5b",
   "metadata": {},
   "outputs": [],
   "source": [
    "def cost_of_trip(return_flight, hotel_trip, weekly_car_rental):\n",
    "    cost_of_trip = return_flight + (hotel_trip * 4) + weekly_car_rental\n",
    "    return cost_of_trip"
   ]
  },
  {
   "cell_type": "code",
   "execution_count": 17,
   "id": "c62e4fc5-cf90-4a8a-b334-9960b41424d1",
   "metadata": {},
   "outputs": [],
   "source": [
    "cost_of_trip_paris = cost_of_trip(return_flight=200,\n",
    "                                 hotel_trip=20,\n",
    "                                 weekly_car_rental=200)"
   ]
  },
  {
   "cell_type": "code",
   "execution_count": 18,
   "id": "e166d57e-63f9-4aab-9b45-be19ac5ed306",
   "metadata": {},
   "outputs": [
    {
     "data": {
      "text/plain": [
       "480"
      ]
     },
     "execution_count": 18,
     "metadata": {},
     "output_type": "execute_result"
    }
   ],
   "source": [
    "cost_of_trip_paris"
   ]
  },
  {
   "cell_type": "code",
   "execution_count": 19,
   "id": "3769e6b0-7d29-4da8-b067-496ff7213af0",
   "metadata": {},
   "outputs": [],
   "source": [
    "cost_of_trip_london = cost_of_trip(return_flight=250,\n",
    "                                  hotel_trip=30,\n",
    "                                  weekly_car_rental=120)"
   ]
  },
  {
   "cell_type": "code",
   "execution_count": 20,
   "id": "1b5d231f-a667-4139-a765-c194f4f261b9",
   "metadata": {},
   "outputs": [
    {
     "data": {
      "text/plain": [
       "490"
      ]
     },
     "execution_count": 20,
     "metadata": {},
     "output_type": "execute_result"
    }
   ],
   "source": [
    "cost_of_trip_london"
   ]
  },
  {
   "cell_type": "code",
   "execution_count": 21,
   "id": "bf6aeb75-4ad0-4732-bfac-bbefed0449eb",
   "metadata": {},
   "outputs": [],
   "source": [
    "cost_of_trip_dubai = cost_of_trip(return_flight=350,\n",
    "                                 hotel_trip=15,\n",
    "                                 weekly_car_rental=80)"
   ]
  },
  {
   "cell_type": "code",
   "execution_count": 22,
   "id": "9798dedf-a0c6-4208-b389-08119782c261",
   "metadata": {},
   "outputs": [
    {
     "data": {
      "text/plain": [
       "490"
      ]
     },
     "execution_count": 22,
     "metadata": {},
     "output_type": "execute_result"
    }
   ],
   "source": [
    "cost_of_trip_dubai"
   ]
  },
  {
   "cell_type": "code",
   "execution_count": 23,
   "id": "5a543f02-63cb-429b-a5b3-5a41055c0251",
   "metadata": {},
   "outputs": [],
   "source": [
    "cost_of_trip_mumbai = cost_of_trip(return_flight=450,\n",
    "                                  hotel_trip=10,\n",
    "                                  weekly_car_rental=70)"
   ]
  },
  {
   "cell_type": "code",
   "execution_count": 24,
   "id": "0b94ec71-284c-49fb-8358-84f2606adb20",
   "metadata": {},
   "outputs": [
    {
     "data": {
      "text/plain": [
       "560"
      ]
     },
     "execution_count": 24,
     "metadata": {},
     "output_type": "execute_result"
    }
   ],
   "source": [
    "cost_of_trip_mumbai"
   ]
  },
  {
   "cell_type": "code",
   "execution_count": null,
   "id": "dbd8d91d-ffe5-40e7-9ed8-830f76d0e73d",
   "metadata": {},
   "outputs": [],
   "source": [
    "## 10 days trip"
   ]
  },
  {
   "cell_type": "code",
   "execution_count": 25,
   "id": "7d56df25-7f34-483d-a86a-5a863867e155",
   "metadata": {},
   "outputs": [],
   "source": [
    "def cost_of_trip(return_flight, hotel_trip, weekly_car_rental):\n",
    "    cost_of_trip = return_flight + (hotel_trip * 10) + weekly_car_rental\n",
    "    return cost_of_trip"
   ]
  },
  {
   "cell_type": "code",
   "execution_count": 26,
   "id": "1d0a115e-c848-48a8-8dec-2c7a2fd364aa",
   "metadata": {},
   "outputs": [],
   "source": [
    "cost_of_trip_paris = cost_of_trip(return_flight=200,\n",
    "                                 hotel_trip=20,\n",
    "                                 weekly_car_rental=200)"
   ]
  },
  {
   "cell_type": "code",
   "execution_count": 27,
   "id": "b15b2257-8b89-4306-967d-6282a24b560b",
   "metadata": {},
   "outputs": [
    {
     "data": {
      "text/plain": [
       "600"
      ]
     },
     "execution_count": 27,
     "metadata": {},
     "output_type": "execute_result"
    }
   ],
   "source": [
    "cost_of_trip_paris"
   ]
  },
  {
   "cell_type": "code",
   "execution_count": 28,
   "id": "91b4a0e7-600f-400f-9d1f-9ffae11b4e08",
   "metadata": {},
   "outputs": [],
   "source": [
    "cost_of_trip_london = cost_of_trip(return_flight=250,\n",
    "                                  hotel_trip=30,\n",
    "                                  weekly_car_rental=120)"
   ]
  },
  {
   "cell_type": "code",
   "execution_count": 29,
   "id": "fabf0bd5-f862-476f-adf4-d53d9c35f0d0",
   "metadata": {},
   "outputs": [
    {
     "data": {
      "text/plain": [
       "670"
      ]
     },
     "execution_count": 29,
     "metadata": {},
     "output_type": "execute_result"
    }
   ],
   "source": [
    "cost_of_trip_london"
   ]
  },
  {
   "cell_type": "code",
   "execution_count": 30,
   "id": "b916b31b-56c2-4162-ad2f-320030f3d224",
   "metadata": {},
   "outputs": [],
   "source": [
    "cost_of_trip_dubai = cost_of_trip(return_flight=370,\n",
    "                                 hotel_trip=15,\n",
    "                                 weekly_car_rental=80)"
   ]
  },
  {
   "cell_type": "code",
   "execution_count": 31,
   "id": "33754ca7-944d-4d30-b983-adec78e781a1",
   "metadata": {},
   "outputs": [
    {
     "data": {
      "text/plain": [
       "600"
      ]
     },
     "execution_count": 31,
     "metadata": {},
     "output_type": "execute_result"
    }
   ],
   "source": [
    "cost_of_trip_dubai"
   ]
  },
  {
   "cell_type": "code",
   "execution_count": 32,
   "id": "c33d7e03-eb5e-447b-8bd3-32618998bec6",
   "metadata": {},
   "outputs": [],
   "source": [
    "cost_of_trip_mumbai = cost_of_trip(return_flight=450,\n",
    "                                  hotel_trip=10,\n",
    "                                  weekly_car_rental=70)"
   ]
  },
  {
   "cell_type": "code",
   "execution_count": 34,
   "id": "680c53da-603c-43dc-ba37-8e0f4713cb94",
   "metadata": {},
   "outputs": [
    {
     "data": {
      "text/plain": [
       "620"
      ]
     },
     "execution_count": 34,
     "metadata": {},
     "output_type": "execute_result"
    }
   ],
   "source": [
    "cost_of_trip_mumbai"
   ]
  },
  {
   "cell_type": "code",
   "execution_count": null,
   "id": "ae7c025e-8b35-4b90-a4c3-dac029701922",
   "metadata": {},
   "outputs": [],
   "source": [
    "# 2weeks trip ie 14days"
   ]
  },
  {
   "cell_type": "code",
   "execution_count": 35,
   "id": "b0b5acd6-baf0-4b29-ada5-7dd5a68c4515",
   "metadata": {},
   "outputs": [],
   "source": [
    "def cost_of_trip(return_flight, hotel_trip, weekly_car_rental):\n",
    "    cost_of_trip = return_flight + (hotel_trip * 14) + weekly_car_rental\n",
    "    return cost_of_trip"
   ]
  },
  {
   "cell_type": "code",
   "execution_count": 36,
   "id": "87785db3-ffaa-45e7-8da6-b03d592c5a0f",
   "metadata": {},
   "outputs": [],
   "source": [
    "cost_of_trip_paris = cost_of_trip(return_flight=200,\n",
    "                                 hotel_trip=20,\n",
    "                                 weekly_car_rental=200)"
   ]
  },
  {
   "cell_type": "code",
   "execution_count": 37,
   "id": "4a65d0ff-fc3b-4b6e-a4a6-cfdd3145a7e1",
   "metadata": {},
   "outputs": [
    {
     "data": {
      "text/plain": [
       "680"
      ]
     },
     "execution_count": 37,
     "metadata": {},
     "output_type": "execute_result"
    }
   ],
   "source": [
    "cost_of_trip_paris"
   ]
  },
  {
   "cell_type": "code",
   "execution_count": 39,
   "id": "85928588-d928-4448-a130-c672f727e207",
   "metadata": {},
   "outputs": [],
   "source": [
    "cost_of_trip_london = cost_of_trip(return_flight=250,\n",
    "                                  hotel_trip=30,\n",
    "                                  weekly_car_rental=120)"
   ]
  },
  {
   "cell_type": "code",
   "execution_count": 40,
   "id": "8a8f6c6b-e046-488d-8089-39861ba4da72",
   "metadata": {},
   "outputs": [
    {
     "data": {
      "text/plain": [
       "790"
      ]
     },
     "execution_count": 40,
     "metadata": {},
     "output_type": "execute_result"
    }
   ],
   "source": [
    "cost_of_trip_london"
   ]
  },
  {
   "cell_type": "code",
   "execution_count": 41,
   "id": "3ac1cef2-cec2-482b-ae96-b4bf1603d822",
   "metadata": {},
   "outputs": [],
   "source": [
    "cost_of_trip_dubai = cost_of_trip(return_flight=370,\n",
    "                                 hotel_trip=15,\n",
    "                                 weekly_car_rental=80)"
   ]
  },
  {
   "cell_type": "code",
   "execution_count": 43,
   "id": "6ba93603-4dea-461f-a08c-83dd993240c9",
   "metadata": {},
   "outputs": [
    {
     "data": {
      "text/plain": [
       "660"
      ]
     },
     "execution_count": 43,
     "metadata": {},
     "output_type": "execute_result"
    }
   ],
   "source": [
    "cost_of_trip_dubai"
   ]
  },
  {
   "cell_type": "code",
   "execution_count": 44,
   "id": "3b382022-37fb-4d3d-80e6-68b3d2423fc6",
   "metadata": {},
   "outputs": [],
   "source": [
    "cost_of_trip_mumbai = cost_of_trip(return_flight=450,\n",
    "                                  hotel_trip=10,\n",
    "                                  weekly_car_rental=70)"
   ]
  },
  {
   "cell_type": "code",
   "execution_count": 45,
   "id": "cda5828c-ded6-4e18-8463-6e88869b961b",
   "metadata": {},
   "outputs": [
    {
     "data": {
      "text/plain": [
       "660"
      ]
     },
     "execution_count": 45,
     "metadata": {},
     "output_type": "execute_result"
    }
   ],
   "source": [
    "cost_of_trip_mumbai"
   ]
  },
  {
   "cell_type": "code",
   "execution_count": 47,
   "id": "f60b3469-42ed-4808-9994-610bcd83c3fd",
   "metadata": {},
   "outputs": [],
   "source": [
    "import math"
   ]
  },
  {
   "cell_type": "code",
   "execution_count": 48,
   "id": "9c0491f4-f343-433f-9d8d-3f314cafb12e",
   "metadata": {},
   "outputs": [],
   "source": [
    "def duration_of_trip (total_budget, return_flight, weekly_car_rental, hotel_per_day):\n",
    "    duration_of_trip = (total_budget-(return_flight + weekly_car_rental))/hotel_per_day\n",
    "    duration_of_trip = math.ceil(duration_of_trip)\n",
    "    return duration_of_trip"
   ]
  },
  {
   "cell_type": "code",
   "execution_count": null,
   "id": "bab8ef7a-ac0b-4b2d-85cc-c304cb1c6f6c",
   "metadata": {},
   "outputs": [],
   "source": [
    "#maximize duration one week"
   ]
  },
  {
   "cell_type": "code",
   "execution_count": 50,
   "id": "d75e84b7-553a-4865-8a0c-013226aac199",
   "metadata": {},
   "outputs": [],
   "source": [
    "duration_of_trip_paris = duration_of_trip(total_budget=1000,\n",
    "                                         return_flight=200,\n",
    "                                         weekly_car_rental=200,\n",
    "                                         hotel_per_day=20)"
   ]
  },
  {
   "cell_type": "code",
   "execution_count": 51,
   "id": "569395ea-55ff-45a6-992f-46af2164bb34",
   "metadata": {},
   "outputs": [
    {
     "data": {
      "text/plain": [
       "30"
      ]
     },
     "execution_count": 51,
     "metadata": {},
     "output_type": "execute_result"
    }
   ],
   "source": [
    "duration_of_trip_paris"
   ]
  },
  {
   "cell_type": "code",
   "execution_count": 54,
   "id": "3ad25cd9-951a-4bf6-8158-ac5bcc672666",
   "metadata": {},
   "outputs": [],
   "source": [
    "duration_of_trip_london = duration_of_trip(total_budget=1000,\n",
    "                                          return_flight=250,\n",
    "                                          weekly_car_rental=120,\n",
    "                                          hotel_per_day=30)"
   ]
  },
  {
   "cell_type": "code",
   "execution_count": 55,
   "id": "c97f55d2-f267-4333-8a81-e2346d43e281",
   "metadata": {},
   "outputs": [
    {
     "data": {
      "text/plain": [
       "21"
      ]
     },
     "execution_count": 55,
     "metadata": {},
     "output_type": "execute_result"
    }
   ],
   "source": [
    "duration_of_trip_london"
   ]
  },
  {
   "cell_type": "code",
   "execution_count": 56,
   "id": "0c06694a-a34c-49b8-adfb-e9b409f4b2f6",
   "metadata": {},
   "outputs": [],
   "source": [
    "duration_of_trip_dubai = duration_of_trip(total_budget=1000,\n",
    "                                         return_flight=370,\n",
    "                                         weekly_car_rental=80,\n",
    "                                         hotel_per_day=15)"
   ]
  },
  {
   "cell_type": "code",
   "execution_count": 57,
   "id": "20d0b0fb-862f-4cec-aa23-6ba9bd7fd406",
   "metadata": {},
   "outputs": [
    {
     "data": {
      "text/plain": [
       "37"
      ]
     },
     "execution_count": 57,
     "metadata": {},
     "output_type": "execute_result"
    }
   ],
   "source": [
    "duration_of_trip_dubai"
   ]
  },
  {
   "cell_type": "code",
   "execution_count": 58,
   "id": "b00472cd-3197-4367-a8f3-e756dc7943e4",
   "metadata": {},
   "outputs": [],
   "source": [
    "duration_of_trip_mumbai = duration_of_trip(return_flight=450,\n",
    "                                          total_budget=1000,\n",
    "                                          weekly_car_rental=70,\n",
    "                                          hotel_per_day=10)"
   ]
  },
  {
   "cell_type": "code",
   "execution_count": 59,
   "id": "185af642-f03d-4da1-9996-8c7a69ee1563",
   "metadata": {},
   "outputs": [
    {
     "data": {
      "text/plain": [
       "48"
      ]
     },
     "execution_count": 59,
     "metadata": {},
     "output_type": "execute_result"
    }
   ],
   "source": [
    "duration_of_trip_mumbai"
   ]
  },
  {
   "cell_type": "code",
   "execution_count": 61,
   "id": "9a4dd2b6-c5d7-40e6-9cbd-0e58c37436a9",
   "metadata": {},
   "outputs": [
    {
     "name": "stdout",
     "output_type": "stream",
     "text": [
      "to maiximize the duration of trip i would visit 48 days in mumbai\n"
     ]
    }
   ],
   "source": [
    "print(\"to maiximize the duration of trip i would visit {} days in mumbai\".format(duration_of_trip_mumbai))"
   ]
  },
  {
   "cell_type": "code",
   "execution_count": 62,
   "id": "b7068bc2-32c5-47e8-ab07-a16a0f50726a",
   "metadata": {},
   "outputs": [
    {
     "name": "stdout",
     "output_type": "stream",
     "text": [
      "to minimize the duration of trip i would visit 21 days in london\n"
     ]
    }
   ],
   "source": [
    "print(\"to minimize the duration of trip i would visit {} days in london\".format(duration_of_trip_london))"
   ]
  },
  {
   "cell_type": "code",
   "execution_count": null,
   "id": "d9641d5d-93df-48f6-af2a-6462df958cab",
   "metadata": {},
   "outputs": [],
   "source": [
    "## $600 dollar budget"
   ]
  },
  {
   "cell_type": "code",
   "execution_count": 1,
   "id": "e512fbed-eb26-4c80-ae1e-0090dddfd1b0",
   "metadata": {},
   "outputs": [],
   "source": [
    "import math"
   ]
  },
  {
   "cell_type": "code",
   "execution_count": 2,
   "id": "ad5ffa65-720b-49d0-b837-163b5ea7a047",
   "metadata": {},
   "outputs": [],
   "source": [
    "def duration_of_trip (total_budget, return_flight, weekly_car_rental, hotel_per_day):\n",
    "    duration_of_trip = (total_budget-(return_flight + weekly_car_rental))/hotel_per_day\n",
    "    duration_of_trip = math.ceil(duration_of_trip)\n",
    "    return duration_of_trip"
   ]
  },
  {
   "cell_type": "code",
   "execution_count": 33,
   "id": "e7f745dd-f567-43a9-87c3-e3844f83396e",
   "metadata": {},
   "outputs": [],
   "source": [
    "duration_of_trip_paris_600 = duration_of_trip (total_budget=600,\n",
    "                          return_flight=200,\n",
    "                          hotel_per_day=20,\n",
    "                          weekly_car_rental=200)"
   ]
  },
  {
   "cell_type": "code",
   "execution_count": 34,
   "id": "dc87a2a2-59b2-4772-878d-6eff786c14ca",
   "metadata": {},
   "outputs": [
    {
     "data": {
      "text/plain": [
       "10"
      ]
     },
     "execution_count": 34,
     "metadata": {},
     "output_type": "execute_result"
    }
   ],
   "source": [
    "duration_of_trip_paris_600"
   ]
  },
  {
   "cell_type": "code",
   "execution_count": 35,
   "id": "27f820b9-ac0f-411a-8925-d20ad266da79",
   "metadata": {},
   "outputs": [],
   "source": [
    "duration_of_trip_london_600 = duration_of_trip (total_budget=600,\n",
    "                                           return_flight=250,\n",
    "                                           hotel_per_day=30,\n",
    "                                           weekly_car_rental=120)"
   ]
  },
  {
   "cell_type": "code",
   "execution_count": 36,
   "id": "6095a511-45d6-48e8-8764-a18b99f60c5e",
   "metadata": {},
   "outputs": [
    {
     "data": {
      "text/plain": [
       "8"
      ]
     },
     "execution_count": 36,
     "metadata": {},
     "output_type": "execute_result"
    }
   ],
   "source": [
    "duration_of_trip_london_600"
   ]
  },
  {
   "cell_type": "code",
   "execution_count": 37,
   "id": "c4b0cb67-a0e8-40d2-babd-8e22e62f61d8",
   "metadata": {},
   "outputs": [],
   "source": [
    "duration_of_trip_dubai_600 = duration_of_trip (total_budget=600,\n",
    "                                          return_flight=370,\n",
    "                                          hotel_per_day=15,\n",
    "                                          weekly_car_rental=80)"
   ]
  },
  {
   "cell_type": "code",
   "execution_count": 38,
   "id": "2d1d3e9f-7629-4b43-9854-84cbac7bc9c7",
   "metadata": {},
   "outputs": [
    {
     "data": {
      "text/plain": [
       "10"
      ]
     },
     "execution_count": 38,
     "metadata": {},
     "output_type": "execute_result"
    }
   ],
   "source": [
    "duration_of_trip_dubai_600"
   ]
  },
  {
   "cell_type": "code",
   "execution_count": 39,
   "id": "6674af8c-875c-4ab2-a0bb-c7e82b515134",
   "metadata": {},
   "outputs": [],
   "source": [
    "duration_of_trip_mumbai_600 = duration_of_trip (total_budget=600,\n",
    "                                           return_flight=450,\n",
    "                                           hotel_per_day=10,\n",
    "                                           weekly_car_rental=70)"
   ]
  },
  {
   "cell_type": "code",
   "execution_count": 40,
   "id": "f08363a1-d664-4f7f-a5d2-27073ea1d611",
   "metadata": {},
   "outputs": [
    {
     "data": {
      "text/plain": [
       "8"
      ]
     },
     "execution_count": 40,
     "metadata": {},
     "output_type": "execute_result"
    }
   ],
   "source": [
    "duration_of_trip_mumbai_600"
   ]
  },
  {
   "cell_type": "code",
   "execution_count": 42,
   "id": "e6b61516-b81f-4ae1-b2ea-5366f8af7f47",
   "metadata": {},
   "outputs": [
    {
     "name": "stdout",
     "output_type": "stream",
     "text": [
      "To minimize the duration of the trip i would visit either london or mumbai for 8 days\n"
     ]
    }
   ],
   "source": [
    "print(\"To minimize the duration of the trip i would visit either london or mumbai for {} days\".format(duration_of_trip_london_600 or duration_of_trip_mumbai_600))"
   ]
  },
  {
   "cell_type": "code",
   "execution_count": 41,
   "id": "07ae3e16-8758-41be-8907-276353ea9370",
   "metadata": {},
   "outputs": [
    {
     "name": "stdout",
     "output_type": "stream",
     "text": [
      "to maximize the duration of the trip i would i would visit either paris or dubai for 10 days \n"
     ]
    }
   ],
   "source": [
    "print(\"to maximize the duration of the trip i would i would visit either paris or dubai for {} days \".format(duration_of_trip_paris_600 or duration_of_trip_duabi_600))"
   ]
  },
  {
   "cell_type": "code",
   "execution_count": null,
   "id": "940f811b-afae-46cc-b720-c67b6aba5123",
   "metadata": {},
   "outputs": [],
   "source": [
    "## $2000 budget"
   ]
  },
  {
   "cell_type": "code",
   "execution_count": 12,
   "id": "a2706f81-bd4b-45d9-8072-92fdc69b717f",
   "metadata": {},
   "outputs": [],
   "source": [
    "import math"
   ]
  },
  {
   "cell_type": "code",
   "execution_count": 13,
   "id": "8c67c3ef-746c-4ad4-933c-be90e150a2ad",
   "metadata": {},
   "outputs": [],
   "source": [
    "def duration_of_trip (total_budget, return_flight, weekly_car_rental, hotel_per_day):\n",
    "    duration_of_trip = (total_budget-(return_flight + weekly_car_rental))/hotel_per_day\n",
    "    duration_of_trip = math.ceil(duration_of_trip)\n",
    "    return duration_of_trip"
   ]
  },
  {
   "cell_type": "code",
   "execution_count": 43,
   "id": "47fbf023-7836-476d-b3e3-bd1a1ccee020",
   "metadata": {},
   "outputs": [],
   "source": [
    "duration_of_trip_paris_2000 = duration_of_trip (total_budget=2000,\n",
    "                                          return_flight=200,\n",
    "                                          hotel_per_day=20,\n",
    "                                          weekly_car_rental=200)"
   ]
  },
  {
   "cell_type": "code",
   "execution_count": 44,
   "id": "ea57d442-a479-4c88-b813-132d6355c709",
   "metadata": {},
   "outputs": [
    {
     "data": {
      "text/plain": [
       "80"
      ]
     },
     "execution_count": 44,
     "metadata": {},
     "output_type": "execute_result"
    }
   ],
   "source": [
    "duration_of_trip_paris_2000"
   ]
  },
  {
   "cell_type": "code",
   "execution_count": 45,
   "id": "ad616cbe-fbcf-4f9f-9569-ff3367fde083",
   "metadata": {},
   "outputs": [],
   "source": [
    "duration_of_trip_london_2000 = duration_of_trip (total_budget=2000,\n",
    "                                           return_flight=250,\n",
    "                                           hotel_per_day=30,\n",
    "                                           weekly_car_rental=120)"
   ]
  },
  {
   "cell_type": "code",
   "execution_count": 46,
   "id": "c2689546-f8ed-42fc-95ba-04a2f5fc0fef",
   "metadata": {},
   "outputs": [
    {
     "data": {
      "text/plain": [
       "55"
      ]
     },
     "execution_count": 46,
     "metadata": {},
     "output_type": "execute_result"
    }
   ],
   "source": [
    "duration_of_trip_london_2000"
   ]
  },
  {
   "cell_type": "code",
   "execution_count": 47,
   "id": "8eab2db0-7a2e-477c-a0e1-12b1ce1cd9d9",
   "metadata": {},
   "outputs": [],
   "source": [
    "duration_of_trip_dubai_2000 = duration_of_trip (total_budget=2000,\n",
    "                                          return_flight=370,\n",
    "                                          hotel_per_day=15,\n",
    "                                          weekly_car_rental=80)"
   ]
  },
  {
   "cell_type": "code",
   "execution_count": 48,
   "id": "4081dd17-e3df-45a9-9db0-ddc4026ec4c2",
   "metadata": {},
   "outputs": [
    {
     "data": {
      "text/plain": [
       "104"
      ]
     },
     "execution_count": 48,
     "metadata": {},
     "output_type": "execute_result"
    }
   ],
   "source": [
    "duration_of_trip_dubai_2000"
   ]
  },
  {
   "cell_type": "code",
   "execution_count": 49,
   "id": "1a1587a8-1587-41b5-92db-f93ec8ca43a9",
   "metadata": {},
   "outputs": [],
   "source": [
    "duration_of_trip_mumbai_2000 = duration_of_trip (total_budget=2000,\n",
    "                                           return_flight=450,\n",
    "                                           hotel_per_day=10,\n",
    "                                           weekly_car_rental=70)"
   ]
  },
  {
   "cell_type": "code",
   "execution_count": 50,
   "id": "a6e22047-0721-4a7c-8679-631abdaa8bf3",
   "metadata": {},
   "outputs": [
    {
     "data": {
      "text/plain": [
       "148"
      ]
     },
     "execution_count": 50,
     "metadata": {},
     "output_type": "execute_result"
    }
   ],
   "source": [
    "duration_of_trip_mumbai_2000"
   ]
  },
  {
   "cell_type": "code",
   "execution_count": 52,
   "id": "6ecdb5c7-1828-4e55-9129-cce95db04aec",
   "metadata": {},
   "outputs": [
    {
     "name": "stdout",
     "output_type": "stream",
     "text": [
      "to minimize the duration of the trip i would visit london for 55 days\n"
     ]
    }
   ],
   "source": [
    "print(\"to minimize the duration of the trip i would visit london for {} days\".format(duration_of_trip_london_2000))"
   ]
  },
  {
   "cell_type": "code",
   "execution_count": 54,
   "id": "2eafd100-b9db-4ef6-b403-03d4b91cb614",
   "metadata": {},
   "outputs": [
    {
     "name": "stdout",
     "output_type": "stream",
     "text": [
      "to maximize the duration of the trip i would visit mumbai for 148 days\n"
     ]
    }
   ],
   "source": [
    "print(\"to maximize the duration of the trip i would visit mumbai for {} days\".format(duration_of_trip_mumbai_2000))"
   ]
  },
  {
   "cell_type": "code",
   "execution_count": null,
   "id": "02c2825f-a228-43fc-963f-1f3eb0e41fa7",
   "metadata": {},
   "outputs": [],
   "source": [
    "## $1500 budget"
   ]
  },
  {
   "cell_type": "code",
   "execution_count": 23,
   "id": "3c10a877-605e-417f-a44d-b545c0b8bc44",
   "metadata": {},
   "outputs": [],
   "source": [
    "import math"
   ]
  },
  {
   "cell_type": "code",
   "execution_count": null,
   "id": "a714519a-8543-4132-b4b3-92dda183c186",
   "metadata": {},
   "outputs": [],
   "source": [
    "def duration_of_trip (total_budget, return_flight, weekly_car_rental, hotel_per_day):\n",
    "    duration_of_trip = (total_budget-(return_flight + weekly_car_rental))/hotel_per_day\n",
    "    duration_of_trip = math.ceil(duration_of_trip)\n",
    "    return duration_of_trip"
   ]
  },
  {
   "cell_type": "code",
   "execution_count": 55,
   "id": "bce662cb-bc47-42f1-8d6a-d2b87b42ea22",
   "metadata": {},
   "outputs": [],
   "source": [
    "duration_of_trip_paris_1500 = duration_of_trip (total_budget=1500,\n",
    "                                          return_flight=200,\n",
    "                                          hotel_per_day=20,\n",
    "                                          weekly_car_rental=200)"
   ]
  },
  {
   "cell_type": "code",
   "execution_count": 56,
   "id": "b0ff33a1-1350-4385-8fa4-0c5a3ad884ee",
   "metadata": {},
   "outputs": [
    {
     "data": {
      "text/plain": [
       "55"
      ]
     },
     "execution_count": 56,
     "metadata": {},
     "output_type": "execute_result"
    }
   ],
   "source": [
    "duration_of_trip_paris_1500"
   ]
  },
  {
   "cell_type": "code",
   "execution_count": 64,
   "id": "d78ffad8-03a1-4526-a0c7-5877198dec5e",
   "metadata": {},
   "outputs": [],
   "source": [
    "duration_of_trip_london_1500 = duration_of_trip (total_budget=1500,\n",
    "                                           return_flight=250,\n",
    "                                           hotel_per_day=30,\n",
    "                                           weekly_car_rental=120)"
   ]
  },
  {
   "cell_type": "code",
   "execution_count": 65,
   "id": "fb0a4241-e457-4634-9392-5ce23e785e3b",
   "metadata": {},
   "outputs": [
    {
     "data": {
      "text/plain": [
       "38"
      ]
     },
     "execution_count": 65,
     "metadata": {},
     "output_type": "execute_result"
    }
   ],
   "source": [
    "duration_of_trip_london_1500"
   ]
  },
  {
   "cell_type": "code",
   "execution_count": 59,
   "id": "71a6559e-acf8-41e1-8a28-b6b5a3a39456",
   "metadata": {},
   "outputs": [],
   "source": [
    "duration_of_trip_dubai_1500 = duration_of_trip (total_budget=1500,\n",
    "                                          return_flight=370,\n",
    "                                          hotel_per_day=15,\n",
    "                                          weekly_car_rental=80)"
   ]
  },
  {
   "cell_type": "code",
   "execution_count": 60,
   "id": "a8ddaa66-8d67-46e4-a3f6-eda32fc4c709",
   "metadata": {},
   "outputs": [
    {
     "data": {
      "text/plain": [
       "70"
      ]
     },
     "execution_count": 60,
     "metadata": {},
     "output_type": "execute_result"
    }
   ],
   "source": [
    "duration_of_trip_dubai_1500"
   ]
  },
  {
   "cell_type": "code",
   "execution_count": 61,
   "id": "98961308-1af6-4a3d-bafa-d6527ee94fb8",
   "metadata": {},
   "outputs": [],
   "source": [
    "duration_of_trip_mumbai_1500 = duration_of_trip (total_budget=1500,\n",
    "                                           return_flight=450,\n",
    "                                           hotel_per_day=10,\n",
    "                                           weekly_car_rental=70)"
   ]
  },
  {
   "cell_type": "code",
   "execution_count": 62,
   "id": "3f0737b2-a43d-4ae2-9787-312300388d2b",
   "metadata": {},
   "outputs": [
    {
     "data": {
      "text/plain": [
       "98"
      ]
     },
     "execution_count": 62,
     "metadata": {},
     "output_type": "execute_result"
    }
   ],
   "source": [
    "duration_of_trip_mumbai_1500"
   ]
  },
  {
   "cell_type": "code",
   "execution_count": 67,
   "id": "fdc29e96-51c1-4115-b4e6-e155d7958284",
   "metadata": {},
   "outputs": [
    {
     "name": "stdout",
     "output_type": "stream",
     "text": [
      "To minimize the duration of the trip i would visit london for 38 days\n"
     ]
    }
   ],
   "source": [
    "print(\"To minimize the duration of the trip i would visit london for {} days\".format(duration_of_trip_london_1500))"
   ]
  },
  {
   "cell_type": "code",
   "execution_count": 68,
   "id": "bf181c3b-5780-4a0f-a0a6-373a5059a63e",
   "metadata": {},
   "outputs": [
    {
     "name": "stdout",
     "output_type": "stream",
     "text": [
      "to maximize the duration of the trip i would visit mumbai for 98 days\n"
     ]
    }
   ],
   "source": [
    "print(\"to maximize the duration of the trip i would visit mumbai for {} days\".format(duration_of_trip_mumbai_1500))"
   ]
  },
  {
   "cell_type": "code",
   "execution_count": null,
   "id": "86d35621-fb11-45f3-a131-2f95e3c6eae9",
   "metadata": {},
   "outputs": [],
   "source": []
  },
  {
   "cell_type": "code",
   "execution_count": null,
   "id": "b2cc90ed-1d31-4e90-9072-0900cd2a105e",
   "metadata": {},
   "outputs": [],
   "source": []
  },
  {
   "cell_type": "code",
   "execution_count": null,
   "id": "00ebccc6-8ef0-48eb-87e5-52a651008c85",
   "metadata": {},
   "outputs": [],
   "source": []
  },
  {
   "cell_type": "code",
   "execution_count": null,
   "id": "80bff475-ae5d-4150-84b3-5c03388ee660",
   "metadata": {},
   "outputs": [],
   "source": []
  },
  {
   "cell_type": "code",
   "execution_count": null,
   "id": "273eb541-40ac-4753-aab2-6cf7ab1f77c0",
   "metadata": {},
   "outputs": [],
   "source": []
  },
  {
   "cell_type": "code",
   "execution_count": null,
   "id": "b337eefd-7a19-41b2-bf27-25b572860445",
   "metadata": {},
   "outputs": [],
   "source": []
  },
  {
   "cell_type": "code",
   "execution_count": null,
   "id": "8732ebbf-3fa5-473a-b9ec-bfaaa7aba21a",
   "metadata": {},
   "outputs": [],
   "source": []
  },
  {
   "cell_type": "code",
   "execution_count": null,
   "id": "0b703f01-444c-446a-808c-6934d5e80586",
   "metadata": {},
   "outputs": [],
   "source": []
  },
  {
   "cell_type": "code",
   "execution_count": null,
   "id": "7a7127de-117e-4d98-9c6a-26c5d43c442f",
   "metadata": {},
   "outputs": [],
   "source": []
  },
  {
   "cell_type": "code",
   "execution_count": null,
   "id": "9393e2e5-4739-4fff-9d3b-cf8bce87e03d",
   "metadata": {},
   "outputs": [],
   "source": []
  },
  {
   "cell_type": "code",
   "execution_count": null,
   "id": "19e6a8c2-e9d6-471c-bd66-903118f967e2",
   "metadata": {},
   "outputs": [],
   "source": []
  },
  {
   "cell_type": "code",
   "execution_count": null,
   "id": "ef731302-442a-41de-8411-d1ddbbc3eed6",
   "metadata": {},
   "outputs": [],
   "source": []
  },
  {
   "cell_type": "code",
   "execution_count": null,
   "id": "2ca75d53-26cf-452b-b7dc-560aab6b50d3",
   "metadata": {},
   "outputs": [],
   "source": []
  },
  {
   "cell_type": "code",
   "execution_count": null,
   "id": "b9aa1e9f-d066-437d-9315-2ff6739bb28a",
   "metadata": {},
   "outputs": [],
   "source": []
  },
  {
   "cell_type": "code",
   "execution_count": null,
   "id": "87bacee0-d411-40ed-b311-6820bb703fd9",
   "metadata": {},
   "outputs": [],
   "source": []
  },
  {
   "cell_type": "code",
   "execution_count": null,
   "id": "015473ba-a102-41e7-9ad3-d2bbe7368eb1",
   "metadata": {},
   "outputs": [],
   "source": []
  },
  {
   "cell_type": "code",
   "execution_count": null,
   "id": "75a51903-b3a6-479b-91bd-20590973b2c2",
   "metadata": {},
   "outputs": [],
   "source": []
  },
  {
   "cell_type": "code",
   "execution_count": null,
   "id": "d9eafdfd-2c1e-4931-b94c-3446b7e73d9a",
   "metadata": {},
   "outputs": [],
   "source": []
  },
  {
   "cell_type": "code",
   "execution_count": null,
   "id": "1f3daff6-ab5f-4ee7-af5d-4bdb2eb8d8c6",
   "metadata": {},
   "outputs": [],
   "source": []
  },
  {
   "cell_type": "code",
   "execution_count": null,
   "id": "1905a4d8-3d73-4e21-81e7-5809c25b4ce0",
   "metadata": {},
   "outputs": [],
   "source": []
  },
  {
   "cell_type": "code",
   "execution_count": null,
   "id": "fe653e60-e651-4b6f-9d0a-8706b289c7f2",
   "metadata": {},
   "outputs": [],
   "source": []
  },
  {
   "cell_type": "code",
   "execution_count": null,
   "id": "2c8c6370-e0f8-4f8b-b7a4-ecf9468b7884",
   "metadata": {},
   "outputs": [],
   "source": []
  },
  {
   "cell_type": "code",
   "execution_count": null,
   "id": "1d34670a-e9e9-4a06-a856-334803dc8723",
   "metadata": {},
   "outputs": [],
   "source": []
  },
  {
   "cell_type": "code",
   "execution_count": null,
   "id": "ad5c7d36-26c9-4cb4-adf0-c5f7734babd1",
   "metadata": {},
   "outputs": [],
   "source": []
  },
  {
   "cell_type": "code",
   "execution_count": null,
   "id": "dacef10d-6546-417d-aecf-396a7e23a19a",
   "metadata": {},
   "outputs": [],
   "source": []
  },
  {
   "cell_type": "code",
   "execution_count": null,
   "id": "2ffd2183-7cfa-4961-b05d-deba7f3b8519",
   "metadata": {},
   "outputs": [],
   "source": []
  },
  {
   "cell_type": "code",
   "execution_count": null,
   "id": "c98e86d9-1eea-4dee-bc82-9d62b4482963",
   "metadata": {},
   "outputs": [],
   "source": []
  },
  {
   "cell_type": "code",
   "execution_count": null,
   "id": "fd38575b-ab78-41f3-bff9-c64c964f1d6b",
   "metadata": {},
   "outputs": [],
   "source": []
  },
  {
   "cell_type": "code",
   "execution_count": null,
   "id": "e6853d8e-a717-426e-9559-764138bb0b46",
   "metadata": {},
   "outputs": [],
   "source": []
  },
  {
   "cell_type": "code",
   "execution_count": null,
   "id": "1803cfe2-65e8-4f52-ab0d-8ee51c0e240a",
   "metadata": {},
   "outputs": [],
   "source": []
  },
  {
   "cell_type": "code",
   "execution_count": null,
   "id": "272638fc-93ce-421d-9512-8286d5ed09e4",
   "metadata": {},
   "outputs": [],
   "source": []
  },
  {
   "cell_type": "code",
   "execution_count": null,
   "id": "70516958-dbf7-4a59-a67c-bb5176cfc096",
   "metadata": {},
   "outputs": [],
   "source": []
  },
  {
   "cell_type": "code",
   "execution_count": null,
   "id": "7375d535-8175-4258-aeb7-c566119e8a5a",
   "metadata": {},
   "outputs": [],
   "source": []
  },
  {
   "cell_type": "code",
   "execution_count": null,
   "id": "e384cc75-5f3b-424a-bcaf-c490977155fd",
   "metadata": {},
   "outputs": [],
   "source": []
  },
  {
   "cell_type": "code",
   "execution_count": null,
   "id": "9b44230e-cb72-46a5-967e-261506e54417",
   "metadata": {},
   "outputs": [],
   "source": []
  },
  {
   "cell_type": "code",
   "execution_count": null,
   "id": "a8b5a1e1-8566-4f3f-9f5d-3b8750101111",
   "metadata": {},
   "outputs": [],
   "source": []
  },
  {
   "cell_type": "code",
   "execution_count": null,
   "id": "fa5840d8-46df-4e17-9a20-a2a53b203f44",
   "metadata": {},
   "outputs": [],
   "source": []
  },
  {
   "cell_type": "code",
   "execution_count": null,
   "id": "e646cb4d-6c65-4e42-98d1-5f887ad75e0f",
   "metadata": {},
   "outputs": [],
   "source": []
  },
  {
   "cell_type": "code",
   "execution_count": null,
   "id": "10329ae4-9a83-4737-950d-9f9a1af98492",
   "metadata": {},
   "outputs": [],
   "source": []
  },
  {
   "cell_type": "code",
   "execution_count": null,
   "id": "3b704e76-00da-48d1-9573-9dbeac83542b",
   "metadata": {},
   "outputs": [],
   "source": []
  },
  {
   "cell_type": "code",
   "execution_count": null,
   "id": "89d8cf9a-dcdd-45b8-9c71-76fcfd272674",
   "metadata": {},
   "outputs": [],
   "source": []
  },
  {
   "cell_type": "code",
   "execution_count": null,
   "id": "30fc4fa9-0f10-42ca-b65c-63ee280410c5",
   "metadata": {},
   "outputs": [],
   "source": []
  },
  {
   "cell_type": "code",
   "execution_count": null,
   "id": "e722f326-e5ea-4af1-b206-db944c29b76a",
   "metadata": {},
   "outputs": [],
   "source": []
  },
  {
   "cell_type": "code",
   "execution_count": null,
   "id": "af4ea7c1-98fc-4986-964e-112efb698b1d",
   "metadata": {},
   "outputs": [],
   "source": []
  },
  {
   "cell_type": "code",
   "execution_count": null,
   "id": "e96802b7-629d-43d6-89dc-a47006c3686c",
   "metadata": {},
   "outputs": [],
   "source": []
  },
  {
   "cell_type": "code",
   "execution_count": null,
   "id": "b2e00973-73bc-47f9-92cf-92dfd8e19dc0",
   "metadata": {},
   "outputs": [],
   "source": []
  },
  {
   "cell_type": "code",
   "execution_count": null,
   "id": "3e34937c-5f9a-4557-a2e3-925aadf40f98",
   "metadata": {},
   "outputs": [],
   "source": []
  },
  {
   "cell_type": "code",
   "execution_count": null,
   "id": "cef2f933-1f0b-41a1-bc7e-2fd74fc5ee44",
   "metadata": {},
   "outputs": [],
   "source": []
  },
  {
   "cell_type": "code",
   "execution_count": null,
   "id": "4b3654ac-4c93-40cc-9366-174c33225045",
   "metadata": {},
   "outputs": [],
   "source": []
  },
  {
   "cell_type": "code",
   "execution_count": null,
   "id": "2a6c7146-bd6a-4c38-81d5-12dfcb2dbd19",
   "metadata": {},
   "outputs": [],
   "source": []
  }
 ],
 "metadata": {
  "kernelspec": {
   "display_name": "Python 3 (ipykernel)",
   "language": "python",
   "name": "python3"
  },
  "language_info": {
   "codemirror_mode": {
    "name": "ipython",
    "version": 3
   },
   "file_extension": ".py",
   "mimetype": "text/x-python",
   "name": "python",
   "nbconvert_exporter": "python",
   "pygments_lexer": "ipython3",
   "version": "3.11.7"
  }
 },
 "nbformat": 4,
 "nbformat_minor": 5
}
